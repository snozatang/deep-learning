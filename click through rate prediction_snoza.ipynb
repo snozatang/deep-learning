{
 "cells": [
  {
   "cell_type": "code",
   "execution_count": 1,
   "metadata": {},
   "outputs": [],
   "source": [
    "import pandas as pd\n",
    "import numpy as np\n",
    "import matplotlib.pyplot as plt\n",
    "import seaborn as sns\n",
    "import random"
   ]
  },
  {
   "cell_type": "markdown",
   "metadata": {},
   "source": [
    "# 一、讀取資料"
   ]
  },
  {
   "cell_type": "code",
   "execution_count": 2,
   "metadata": {},
   "outputs": [],
   "source": [
    "random.seed(10)\n",
    "p = 0.1  # 因原始資料筆數太大，隨機抽樣10%資料訓練\n",
    "df_train = pd.read_csv(\n",
    "         'train.csv', \n",
    "         skiprows=lambda i: i>0 and random.random() > p\n",
    ")"
   ]
  },
  {
   "cell_type": "code",
   "execution_count": 3,
   "metadata": {},
   "outputs": [],
   "source": [
    "df_test = pd.read_csv('test.csv')"
   ]
  },
  {
   "cell_type": "markdown",
   "metadata": {},
   "source": [
    "# 二、探索性資料分析(EDA)"
   ]
  },
  {
   "cell_type": "markdown",
   "metadata": {},
   "source": [
    "## 檢查訓練資料的標籤分布"
   ]
  },
  {
   "cell_type": "code",
   "execution_count": 4,
   "metadata": {},
   "outputs": [
    {
     "data": {
      "text/plain": [
       "0.16968149660230575"
      ]
     },
     "execution_count": 4,
     "metadata": {},
     "output_type": "execute_result"
    }
   ],
   "source": [
    "len(df_train[df_train['click']==1]) / len(df_train)"
   ]
  },
  {
   "cell_type": "code",
   "execution_count": 5,
   "metadata": {},
   "outputs": [],
   "source": [
    "#因正項樣本僅17%有unbalanced現象，故oversample正項樣本以提高佔比\n",
    "df_train = pd.concat([df_train, df_train[df_train['click']==1]], axis=0)"
   ]
  },
  {
   "cell_type": "code",
   "execution_count": 6,
   "metadata": {},
   "outputs": [
    {
     "data": {
      "text/plain": [
       "0.2901328217898583"
      ]
     },
     "execution_count": 6,
     "metadata": {},
     "output_type": "execute_result"
    }
   ],
   "source": [
    "#調整後的正項樣本佔比\n",
    "len(df_train[df_train['click']==1]) / len(df_train)"
   ]
  },
  {
   "cell_type": "code",
   "execution_count": 7,
   "metadata": {},
   "outputs": [],
   "source": [
    "#先把測試資料中的標籤欄位拆開，以利後續EDA和特徵工程\n",
    "Y = df_train['click']\n",
    "df_train = df_train.drop(axis = 1, columns = ['click'])"
   ]
  },
  {
   "cell_type": "markdown",
   "metadata": {},
   "source": [
    "## 初步檢查資料的筆數、類別數、缺失值數、資料類型"
   ]
  },
  {
   "cell_type": "code",
   "execution_count": 8,
   "metadata": {},
   "outputs": [],
   "source": [
    "def check_df(df):\n",
    "    check_df = []\n",
    "    for (colname,colval) in df.iteritems():\n",
    "        exp = df[colname][0]\n",
    "        cnt = len(colval)\n",
    "        dnt_cnt = len(df[colname].unique())\n",
    "        null_cnt = df[colname].isna().sum()\n",
    "        dtype = df[colname].dtypes\n",
    "        check_df.append((colname, exp, cnt, dnt_cnt, null_cnt, dtype))\n",
    "    check = pd.DataFrame(data=check_df, columns=['colname', 'example', 'count', 'distinct_count', 'null_count', 'dtype'])\n",
    "    return check\n",
    "        "
   ]
  },
  {
   "cell_type": "code",
   "execution_count": 9,
   "metadata": {},
   "outputs": [
    {
     "data": {
      "text/html": [
       "<div>\n",
       "<style scoped>\n",
       "    .dataframe tbody tr th:only-of-type {\n",
       "        vertical-align: middle;\n",
       "    }\n",
       "\n",
       "    .dataframe tbody tr th {\n",
       "        vertical-align: top;\n",
       "    }\n",
       "\n",
       "    .dataframe thead th {\n",
       "        text-align: right;\n",
       "    }\n",
       "</style>\n",
       "<table border=\"1\" class=\"dataframe\">\n",
       "  <thead>\n",
       "    <tr style=\"text-align: right;\">\n",
       "      <th></th>\n",
       "      <th>colname</th>\n",
       "      <th>example</th>\n",
       "      <th>count</th>\n",
       "      <th>distinct_count</th>\n",
       "      <th>null_count</th>\n",
       "      <th>dtype</th>\n",
       "    </tr>\n",
       "  </thead>\n",
       "  <tbody>\n",
       "    <tr>\n",
       "      <th>0</th>\n",
       "      <td>id</td>\n",
       "      <td>10002044883120869786</td>\n",
       "      <td>4731302</td>\n",
       "      <td>4044949</td>\n",
       "      <td>0</td>\n",
       "      <td>uint64</td>\n",
       "    </tr>\n",
       "    <tr>\n",
       "      <th>1</th>\n",
       "      <td>hour</td>\n",
       "      <td>14102100</td>\n",
       "      <td>4731302</td>\n",
       "      <td>240</td>\n",
       "      <td>0</td>\n",
       "      <td>int64</td>\n",
       "    </tr>\n",
       "    <tr>\n",
       "      <th>2</th>\n",
       "      <td>C1</td>\n",
       "      <td>1005</td>\n",
       "      <td>4731302</td>\n",
       "      <td>7</td>\n",
       "      <td>0</td>\n",
       "      <td>int64</td>\n",
       "    </tr>\n",
       "    <tr>\n",
       "      <th>3</th>\n",
       "      <td>banner_pos</td>\n",
       "      <td>0</td>\n",
       "      <td>4731302</td>\n",
       "      <td>7</td>\n",
       "      <td>0</td>\n",
       "      <td>int64</td>\n",
       "    </tr>\n",
       "    <tr>\n",
       "      <th>4</th>\n",
       "      <td>site_id</td>\n",
       "      <td>d6137915</td>\n",
       "      <td>4731302</td>\n",
       "      <td>3472</td>\n",
       "      <td>0</td>\n",
       "      <td>object</td>\n",
       "    </tr>\n",
       "    <tr>\n",
       "      <th>5</th>\n",
       "      <td>site_domain</td>\n",
       "      <td>bb1ef334</td>\n",
       "      <td>4731302</td>\n",
       "      <td>4290</td>\n",
       "      <td>0</td>\n",
       "      <td>object</td>\n",
       "    </tr>\n",
       "    <tr>\n",
       "      <th>6</th>\n",
       "      <td>site_category</td>\n",
       "      <td>f028772b</td>\n",
       "      <td>4731302</td>\n",
       "      <td>24</td>\n",
       "      <td>0</td>\n",
       "      <td>object</td>\n",
       "    </tr>\n",
       "    <tr>\n",
       "      <th>7</th>\n",
       "      <td>app_id</td>\n",
       "      <td>ecad2386</td>\n",
       "      <td>4731302</td>\n",
       "      <td>4829</td>\n",
       "      <td>0</td>\n",
       "      <td>object</td>\n",
       "    </tr>\n",
       "    <tr>\n",
       "      <th>8</th>\n",
       "      <td>app_domain</td>\n",
       "      <td>7801e8d9</td>\n",
       "      <td>4731302</td>\n",
       "      <td>307</td>\n",
       "      <td>0</td>\n",
       "      <td>object</td>\n",
       "    </tr>\n",
       "    <tr>\n",
       "      <th>9</th>\n",
       "      <td>app_category</td>\n",
       "      <td>07d7df22</td>\n",
       "      <td>4731302</td>\n",
       "      <td>27</td>\n",
       "      <td>0</td>\n",
       "      <td>object</td>\n",
       "    </tr>\n",
       "    <tr>\n",
       "      <th>10</th>\n",
       "      <td>device_id</td>\n",
       "      <td>a99f214a</td>\n",
       "      <td>4731302</td>\n",
       "      <td>504295</td>\n",
       "      <td>0</td>\n",
       "      <td>object</td>\n",
       "    </tr>\n",
       "    <tr>\n",
       "      <th>11</th>\n",
       "      <td>device_ip</td>\n",
       "      <td>72aab6df</td>\n",
       "      <td>4731302</td>\n",
       "      <td>1636307</td>\n",
       "      <td>0</td>\n",
       "      <td>object</td>\n",
       "    </tr>\n",
       "    <tr>\n",
       "      <th>12</th>\n",
       "      <td>device_model</td>\n",
       "      <td>04258293</td>\n",
       "      <td>4731302</td>\n",
       "      <td>6334</td>\n",
       "      <td>0</td>\n",
       "      <td>object</td>\n",
       "    </tr>\n",
       "    <tr>\n",
       "      <th>13</th>\n",
       "      <td>device_type</td>\n",
       "      <td>1</td>\n",
       "      <td>4731302</td>\n",
       "      <td>5</td>\n",
       "      <td>0</td>\n",
       "      <td>int64</td>\n",
       "    </tr>\n",
       "    <tr>\n",
       "      <th>14</th>\n",
       "      <td>device_conn_type</td>\n",
       "      <td>0</td>\n",
       "      <td>4731302</td>\n",
       "      <td>4</td>\n",
       "      <td>0</td>\n",
       "      <td>int64</td>\n",
       "    </tr>\n",
       "    <tr>\n",
       "      <th>15</th>\n",
       "      <td>C14</td>\n",
       "      <td>19771</td>\n",
       "      <td>4731302</td>\n",
       "      <td>2446</td>\n",
       "      <td>0</td>\n",
       "      <td>int64</td>\n",
       "    </tr>\n",
       "    <tr>\n",
       "      <th>16</th>\n",
       "      <td>C15</td>\n",
       "      <td>320</td>\n",
       "      <td>4731302</td>\n",
       "      <td>8</td>\n",
       "      <td>0</td>\n",
       "      <td>int64</td>\n",
       "    </tr>\n",
       "    <tr>\n",
       "      <th>17</th>\n",
       "      <td>C16</td>\n",
       "      <td>50</td>\n",
       "      <td>4731302</td>\n",
       "      <td>9</td>\n",
       "      <td>0</td>\n",
       "      <td>int64</td>\n",
       "    </tr>\n",
       "    <tr>\n",
       "      <th>18</th>\n",
       "      <td>C17</td>\n",
       "      <td>2227</td>\n",
       "      <td>4731302</td>\n",
       "      <td>429</td>\n",
       "      <td>0</td>\n",
       "      <td>int64</td>\n",
       "    </tr>\n",
       "    <tr>\n",
       "      <th>19</th>\n",
       "      <td>C18</td>\n",
       "      <td>0</td>\n",
       "      <td>4731302</td>\n",
       "      <td>4</td>\n",
       "      <td>0</td>\n",
       "      <td>int64</td>\n",
       "    </tr>\n",
       "    <tr>\n",
       "      <th>20</th>\n",
       "      <td>C19</td>\n",
       "      <td>687</td>\n",
       "      <td>4731302</td>\n",
       "      <td>67</td>\n",
       "      <td>0</td>\n",
       "      <td>int64</td>\n",
       "    </tr>\n",
       "    <tr>\n",
       "      <th>21</th>\n",
       "      <td>C20</td>\n",
       "      <td>100077</td>\n",
       "      <td>4731302</td>\n",
       "      <td>166</td>\n",
       "      <td>0</td>\n",
       "      <td>int64</td>\n",
       "    </tr>\n",
       "    <tr>\n",
       "      <th>22</th>\n",
       "      <td>C21</td>\n",
       "      <td>48</td>\n",
       "      <td>4731302</td>\n",
       "      <td>60</td>\n",
       "      <td>0</td>\n",
       "      <td>int64</td>\n",
       "    </tr>\n",
       "  </tbody>\n",
       "</table>\n",
       "</div>"
      ],
      "text/plain": [
       "             colname               example    count  distinct_count  \\\n",
       "0                 id  10002044883120869786  4731302         4044949   \n",
       "1               hour              14102100  4731302             240   \n",
       "2                 C1                  1005  4731302               7   \n",
       "3         banner_pos                     0  4731302               7   \n",
       "4            site_id              d6137915  4731302            3472   \n",
       "5        site_domain              bb1ef334  4731302            4290   \n",
       "6      site_category              f028772b  4731302              24   \n",
       "7             app_id              ecad2386  4731302            4829   \n",
       "8         app_domain              7801e8d9  4731302             307   \n",
       "9       app_category              07d7df22  4731302              27   \n",
       "10         device_id              a99f214a  4731302          504295   \n",
       "11         device_ip              72aab6df  4731302         1636307   \n",
       "12      device_model              04258293  4731302            6334   \n",
       "13       device_type                     1  4731302               5   \n",
       "14  device_conn_type                     0  4731302               4   \n",
       "15               C14                 19771  4731302            2446   \n",
       "16               C15                   320  4731302               8   \n",
       "17               C16                    50  4731302               9   \n",
       "18               C17                  2227  4731302             429   \n",
       "19               C18                     0  4731302               4   \n",
       "20               C19                   687  4731302              67   \n",
       "21               C20                100077  4731302             166   \n",
       "22               C21                    48  4731302              60   \n",
       "\n",
       "    null_count   dtype  \n",
       "0            0  uint64  \n",
       "1            0   int64  \n",
       "2            0   int64  \n",
       "3            0   int64  \n",
       "4            0  object  \n",
       "5            0  object  \n",
       "6            0  object  \n",
       "7            0  object  \n",
       "8            0  object  \n",
       "9            0  object  \n",
       "10           0  object  \n",
       "11           0  object  \n",
       "12           0  object  \n",
       "13           0   int64  \n",
       "14           0   int64  \n",
       "15           0   int64  \n",
       "16           0   int64  \n",
       "17           0   int64  \n",
       "18           0   int64  \n",
       "19           0   int64  \n",
       "20           0   int64  \n",
       "21           0   int64  \n",
       "22           0   int64  "
      ]
     },
     "execution_count": 9,
     "metadata": {},
     "output_type": "execute_result"
    }
   ],
   "source": [
    "check_df(df_train)"
   ]
  },
  {
   "cell_type": "code",
   "execution_count": 10,
   "metadata": {},
   "outputs": [
    {
     "data": {
      "text/html": [
       "<div>\n",
       "<style scoped>\n",
       "    .dataframe tbody tr th:only-of-type {\n",
       "        vertical-align: middle;\n",
       "    }\n",
       "\n",
       "    .dataframe tbody tr th {\n",
       "        vertical-align: top;\n",
       "    }\n",
       "\n",
       "    .dataframe thead th {\n",
       "        text-align: right;\n",
       "    }\n",
       "</style>\n",
       "<table border=\"1\" class=\"dataframe\">\n",
       "  <thead>\n",
       "    <tr style=\"text-align: right;\">\n",
       "      <th></th>\n",
       "      <th>colname</th>\n",
       "      <th>example</th>\n",
       "      <th>count</th>\n",
       "      <th>distinct_count</th>\n",
       "      <th>null_count</th>\n",
       "      <th>dtype</th>\n",
       "    </tr>\n",
       "  </thead>\n",
       "  <tbody>\n",
       "    <tr>\n",
       "      <th>0</th>\n",
       "      <td>id</td>\n",
       "      <td>1.00002e+19</td>\n",
       "      <td>4577464</td>\n",
       "      <td>4577464</td>\n",
       "      <td>0</td>\n",
       "      <td>float64</td>\n",
       "    </tr>\n",
       "    <tr>\n",
       "      <th>1</th>\n",
       "      <td>hour</td>\n",
       "      <td>14103100</td>\n",
       "      <td>4577464</td>\n",
       "      <td>24</td>\n",
       "      <td>0</td>\n",
       "      <td>int64</td>\n",
       "    </tr>\n",
       "    <tr>\n",
       "      <th>2</th>\n",
       "      <td>C1</td>\n",
       "      <td>1005</td>\n",
       "      <td>4577464</td>\n",
       "      <td>7</td>\n",
       "      <td>0</td>\n",
       "      <td>int64</td>\n",
       "    </tr>\n",
       "    <tr>\n",
       "      <th>3</th>\n",
       "      <td>banner_pos</td>\n",
       "      <td>0</td>\n",
       "      <td>4577464</td>\n",
       "      <td>6</td>\n",
       "      <td>0</td>\n",
       "      <td>int64</td>\n",
       "    </tr>\n",
       "    <tr>\n",
       "      <th>4</th>\n",
       "      <td>site_id</td>\n",
       "      <td>235ba823</td>\n",
       "      <td>4577464</td>\n",
       "      <td>2825</td>\n",
       "      <td>0</td>\n",
       "      <td>object</td>\n",
       "    </tr>\n",
       "    <tr>\n",
       "      <th>5</th>\n",
       "      <td>site_domain</td>\n",
       "      <td>f6ebf28e</td>\n",
       "      <td>4577464</td>\n",
       "      <td>3366</td>\n",
       "      <td>0</td>\n",
       "      <td>object</td>\n",
       "    </tr>\n",
       "    <tr>\n",
       "      <th>6</th>\n",
       "      <td>site_category</td>\n",
       "      <td>f028772b</td>\n",
       "      <td>4577464</td>\n",
       "      <td>22</td>\n",
       "      <td>0</td>\n",
       "      <td>object</td>\n",
       "    </tr>\n",
       "    <tr>\n",
       "      <th>7</th>\n",
       "      <td>app_id</td>\n",
       "      <td>ecad2386</td>\n",
       "      <td>4577464</td>\n",
       "      <td>3952</td>\n",
       "      <td>0</td>\n",
       "      <td>object</td>\n",
       "    </tr>\n",
       "    <tr>\n",
       "      <th>8</th>\n",
       "      <td>app_domain</td>\n",
       "      <td>7801e8d9</td>\n",
       "      <td>4577464</td>\n",
       "      <td>201</td>\n",
       "      <td>0</td>\n",
       "      <td>object</td>\n",
       "    </tr>\n",
       "    <tr>\n",
       "      <th>9</th>\n",
       "      <td>app_category</td>\n",
       "      <td>07d7df22</td>\n",
       "      <td>4577464</td>\n",
       "      <td>28</td>\n",
       "      <td>0</td>\n",
       "      <td>object</td>\n",
       "    </tr>\n",
       "    <tr>\n",
       "      <th>10</th>\n",
       "      <td>device_id</td>\n",
       "      <td>a99f214a</td>\n",
       "      <td>4577464</td>\n",
       "      <td>291759</td>\n",
       "      <td>0</td>\n",
       "      <td>object</td>\n",
       "    </tr>\n",
       "    <tr>\n",
       "      <th>11</th>\n",
       "      <td>device_ip</td>\n",
       "      <td>69f45779</td>\n",
       "      <td>4577464</td>\n",
       "      <td>1077199</td>\n",
       "      <td>0</td>\n",
       "      <td>object</td>\n",
       "    </tr>\n",
       "    <tr>\n",
       "      <th>12</th>\n",
       "      <td>device_model</td>\n",
       "      <td>0eb711ec</td>\n",
       "      <td>4577464</td>\n",
       "      <td>5438</td>\n",
       "      <td>0</td>\n",
       "      <td>object</td>\n",
       "    </tr>\n",
       "    <tr>\n",
       "      <th>13</th>\n",
       "      <td>device_type</td>\n",
       "      <td>1</td>\n",
       "      <td>4577464</td>\n",
       "      <td>4</td>\n",
       "      <td>0</td>\n",
       "      <td>int64</td>\n",
       "    </tr>\n",
       "    <tr>\n",
       "      <th>14</th>\n",
       "      <td>device_conn_type</td>\n",
       "      <td>0</td>\n",
       "      <td>4577464</td>\n",
       "      <td>4</td>\n",
       "      <td>0</td>\n",
       "      <td>int64</td>\n",
       "    </tr>\n",
       "    <tr>\n",
       "      <th>15</th>\n",
       "      <td>C14</td>\n",
       "      <td>8330</td>\n",
       "      <td>4577464</td>\n",
       "      <td>1257</td>\n",
       "      <td>0</td>\n",
       "      <td>int64</td>\n",
       "    </tr>\n",
       "    <tr>\n",
       "      <th>16</th>\n",
       "      <td>C15</td>\n",
       "      <td>320</td>\n",
       "      <td>4577464</td>\n",
       "      <td>8</td>\n",
       "      <td>0</td>\n",
       "      <td>int64</td>\n",
       "    </tr>\n",
       "    <tr>\n",
       "      <th>17</th>\n",
       "      <td>C16</td>\n",
       "      <td>50</td>\n",
       "      <td>4577464</td>\n",
       "      <td>9</td>\n",
       "      <td>0</td>\n",
       "      <td>int64</td>\n",
       "    </tr>\n",
       "    <tr>\n",
       "      <th>18</th>\n",
       "      <td>C17</td>\n",
       "      <td>761</td>\n",
       "      <td>4577464</td>\n",
       "      <td>240</td>\n",
       "      <td>0</td>\n",
       "      <td>int64</td>\n",
       "    </tr>\n",
       "    <tr>\n",
       "      <th>19</th>\n",
       "      <td>C18</td>\n",
       "      <td>3</td>\n",
       "      <td>4577464</td>\n",
       "      <td>4</td>\n",
       "      <td>0</td>\n",
       "      <td>int64</td>\n",
       "    </tr>\n",
       "    <tr>\n",
       "      <th>20</th>\n",
       "      <td>C19</td>\n",
       "      <td>175</td>\n",
       "      <td>4577464</td>\n",
       "      <td>47</td>\n",
       "      <td>0</td>\n",
       "      <td>int64</td>\n",
       "    </tr>\n",
       "    <tr>\n",
       "      <th>21</th>\n",
       "      <td>C20</td>\n",
       "      <td>100075</td>\n",
       "      <td>4577464</td>\n",
       "      <td>162</td>\n",
       "      <td>0</td>\n",
       "      <td>int64</td>\n",
       "    </tr>\n",
       "    <tr>\n",
       "      <th>22</th>\n",
       "      <td>C21</td>\n",
       "      <td>23</td>\n",
       "      <td>4577464</td>\n",
       "      <td>39</td>\n",
       "      <td>0</td>\n",
       "      <td>int64</td>\n",
       "    </tr>\n",
       "  </tbody>\n",
       "</table>\n",
       "</div>"
      ],
      "text/plain": [
       "             colname      example    count  distinct_count  null_count  \\\n",
       "0                 id  1.00002e+19  4577464         4577464           0   \n",
       "1               hour     14103100  4577464              24           0   \n",
       "2                 C1         1005  4577464               7           0   \n",
       "3         banner_pos            0  4577464               6           0   \n",
       "4            site_id     235ba823  4577464            2825           0   \n",
       "5        site_domain     f6ebf28e  4577464            3366           0   \n",
       "6      site_category     f028772b  4577464              22           0   \n",
       "7             app_id     ecad2386  4577464            3952           0   \n",
       "8         app_domain     7801e8d9  4577464             201           0   \n",
       "9       app_category     07d7df22  4577464              28           0   \n",
       "10         device_id     a99f214a  4577464          291759           0   \n",
       "11         device_ip     69f45779  4577464         1077199           0   \n",
       "12      device_model     0eb711ec  4577464            5438           0   \n",
       "13       device_type            1  4577464               4           0   \n",
       "14  device_conn_type            0  4577464               4           0   \n",
       "15               C14         8330  4577464            1257           0   \n",
       "16               C15          320  4577464               8           0   \n",
       "17               C16           50  4577464               9           0   \n",
       "18               C17          761  4577464             240           0   \n",
       "19               C18            3  4577464               4           0   \n",
       "20               C19          175  4577464              47           0   \n",
       "21               C20       100075  4577464             162           0   \n",
       "22               C21           23  4577464              39           0   \n",
       "\n",
       "      dtype  \n",
       "0   float64  \n",
       "1     int64  \n",
       "2     int64  \n",
       "3     int64  \n",
       "4    object  \n",
       "5    object  \n",
       "6    object  \n",
       "7    object  \n",
       "8    object  \n",
       "9    object  \n",
       "10   object  \n",
       "11   object  \n",
       "12   object  \n",
       "13    int64  \n",
       "14    int64  \n",
       "15    int64  \n",
       "16    int64  \n",
       "17    int64  \n",
       "18    int64  \n",
       "19    int64  \n",
       "20    int64  \n",
       "21    int64  \n",
       "22    int64  "
      ]
     },
     "execution_count": 10,
     "metadata": {},
     "output_type": "execute_result"
    }
   ],
   "source": [
    "check_df(df_test)"
   ]
  },
  {
   "cell_type": "markdown",
   "metadata": {},
   "source": [
    "### 從初步探索結果，可以發現有的欄位類別很多；考量運算效能，訓練資料總類別50類以上的欄位將先移除不加入訓練\n",
    "#### 另外device_ip應可轉為經緯度做成GIS變數，惟從探索結果中看起來是加密後的資料，故也無法應用"
   ]
  },
  {
   "cell_type": "markdown",
   "metadata": {},
   "source": [
    "# 三、變數篩選與特徵工程"
   ]
  },
  {
   "cell_type": "markdown",
   "metadata": {},
   "source": [
    "## 處理時間特徵"
   ]
  },
  {
   "cell_type": "code",
   "execution_count": 11,
   "metadata": {},
   "outputs": [],
   "source": [
    "import time\n",
    "import datetime"
   ]
  },
  {
   "cell_type": "code",
   "execution_count": 12,
   "metadata": {},
   "outputs": [],
   "source": [
    "def get_datetime(df):\n",
    "    df['timestamp'] = str(\"20\") + df['hour'].astype(str)\n",
    "    df['timestamp'] = pd.to_datetime(df['timestamp'], format=\"%Y%m%d%H\")\n",
    "    df['weekday'] = df['timestamp']. dt.weekday\n",
    "    df['period'] = df['timestamp']. dt.hour\n",
    "    df = df.drop(axis = 1, columns = ['timestamp', 'hour'])\n",
    "    return df"
   ]
  },
  {
   "cell_type": "code",
   "execution_count": 13,
   "metadata": {},
   "outputs": [],
   "source": [
    "df_train = get_datetime(df_train)"
   ]
  },
  {
   "cell_type": "code",
   "execution_count": 14,
   "metadata": {},
   "outputs": [],
   "source": [
    "df_test = get_datetime(df_test)"
   ]
  },
  {
   "cell_type": "markdown",
   "metadata": {},
   "source": [
    "## 移除類別過多的特徵"
   ]
  },
  {
   "cell_type": "code",
   "execution_count": 15,
   "metadata": {},
   "outputs": [],
   "source": [
    "def drop_columns(df, threshold):\n",
    "    col_list = []\n",
    "    for (colname,colval) in df.iteritems():\n",
    "        dnt_cnt = len(df[colname].unique())\n",
    "        col_list.append((colname, dnt_cnt))\n",
    "    df_col = pd.DataFrame(col_list, columns=['colname', 'dnt_cnt'])\n",
    "    columns = df_col[df_col['dnt_cnt']<= threshold]['colname']\n",
    "    return columns"
   ]
  },
  {
   "cell_type": "code",
   "execution_count": 16,
   "metadata": {},
   "outputs": [],
   "source": [
    "df_train = df_train[drop_columns(df_train, threshold=50)]"
   ]
  },
  {
   "cell_type": "code",
   "execution_count": 17,
   "metadata": {},
   "outputs": [],
   "source": [
    "df_test = df_test[drop_columns(df_train, threshold=50)]"
   ]
  },
  {
   "cell_type": "code",
   "execution_count": 18,
   "metadata": {},
   "outputs": [
    {
     "data": {
      "text/html": [
       "<div>\n",
       "<style scoped>\n",
       "    .dataframe tbody tr th:only-of-type {\n",
       "        vertical-align: middle;\n",
       "    }\n",
       "\n",
       "    .dataframe tbody tr th {\n",
       "        vertical-align: top;\n",
       "    }\n",
       "\n",
       "    .dataframe thead th {\n",
       "        text-align: right;\n",
       "    }\n",
       "</style>\n",
       "<table border=\"1\" class=\"dataframe\">\n",
       "  <thead>\n",
       "    <tr style=\"text-align: right;\">\n",
       "      <th></th>\n",
       "      <th>colname</th>\n",
       "      <th>example</th>\n",
       "      <th>count</th>\n",
       "      <th>distinct_count</th>\n",
       "      <th>null_count</th>\n",
       "      <th>dtype</th>\n",
       "    </tr>\n",
       "  </thead>\n",
       "  <tbody>\n",
       "    <tr>\n",
       "      <th>0</th>\n",
       "      <td>C1</td>\n",
       "      <td>1005</td>\n",
       "      <td>4731302</td>\n",
       "      <td>7</td>\n",
       "      <td>0</td>\n",
       "      <td>int64</td>\n",
       "    </tr>\n",
       "    <tr>\n",
       "      <th>1</th>\n",
       "      <td>banner_pos</td>\n",
       "      <td>0</td>\n",
       "      <td>4731302</td>\n",
       "      <td>7</td>\n",
       "      <td>0</td>\n",
       "      <td>int64</td>\n",
       "    </tr>\n",
       "    <tr>\n",
       "      <th>2</th>\n",
       "      <td>site_category</td>\n",
       "      <td>f028772b</td>\n",
       "      <td>4731302</td>\n",
       "      <td>24</td>\n",
       "      <td>0</td>\n",
       "      <td>object</td>\n",
       "    </tr>\n",
       "    <tr>\n",
       "      <th>3</th>\n",
       "      <td>app_category</td>\n",
       "      <td>07d7df22</td>\n",
       "      <td>4731302</td>\n",
       "      <td>27</td>\n",
       "      <td>0</td>\n",
       "      <td>object</td>\n",
       "    </tr>\n",
       "    <tr>\n",
       "      <th>4</th>\n",
       "      <td>device_type</td>\n",
       "      <td>1</td>\n",
       "      <td>4731302</td>\n",
       "      <td>5</td>\n",
       "      <td>0</td>\n",
       "      <td>int64</td>\n",
       "    </tr>\n",
       "    <tr>\n",
       "      <th>5</th>\n",
       "      <td>device_conn_type</td>\n",
       "      <td>0</td>\n",
       "      <td>4731302</td>\n",
       "      <td>4</td>\n",
       "      <td>0</td>\n",
       "      <td>int64</td>\n",
       "    </tr>\n",
       "    <tr>\n",
       "      <th>6</th>\n",
       "      <td>C15</td>\n",
       "      <td>320</td>\n",
       "      <td>4731302</td>\n",
       "      <td>8</td>\n",
       "      <td>0</td>\n",
       "      <td>int64</td>\n",
       "    </tr>\n",
       "    <tr>\n",
       "      <th>7</th>\n",
       "      <td>C16</td>\n",
       "      <td>50</td>\n",
       "      <td>4731302</td>\n",
       "      <td>9</td>\n",
       "      <td>0</td>\n",
       "      <td>int64</td>\n",
       "    </tr>\n",
       "    <tr>\n",
       "      <th>8</th>\n",
       "      <td>C18</td>\n",
       "      <td>0</td>\n",
       "      <td>4731302</td>\n",
       "      <td>4</td>\n",
       "      <td>0</td>\n",
       "      <td>int64</td>\n",
       "    </tr>\n",
       "    <tr>\n",
       "      <th>9</th>\n",
       "      <td>weekday</td>\n",
       "      <td>1</td>\n",
       "      <td>4731302</td>\n",
       "      <td>7</td>\n",
       "      <td>0</td>\n",
       "      <td>int64</td>\n",
       "    </tr>\n",
       "    <tr>\n",
       "      <th>10</th>\n",
       "      <td>period</td>\n",
       "      <td>0</td>\n",
       "      <td>4731302</td>\n",
       "      <td>24</td>\n",
       "      <td>0</td>\n",
       "      <td>int64</td>\n",
       "    </tr>\n",
       "  </tbody>\n",
       "</table>\n",
       "</div>"
      ],
      "text/plain": [
       "             colname   example    count  distinct_count  null_count   dtype\n",
       "0                 C1      1005  4731302               7           0   int64\n",
       "1         banner_pos         0  4731302               7           0   int64\n",
       "2      site_category  f028772b  4731302              24           0  object\n",
       "3       app_category  07d7df22  4731302              27           0  object\n",
       "4        device_type         1  4731302               5           0   int64\n",
       "5   device_conn_type         0  4731302               4           0   int64\n",
       "6                C15       320  4731302               8           0   int64\n",
       "7                C16        50  4731302               9           0   int64\n",
       "8                C18         0  4731302               4           0   int64\n",
       "9            weekday         1  4731302               7           0   int64\n",
       "10            period         0  4731302              24           0   int64"
      ]
     },
     "execution_count": 18,
     "metadata": {},
     "output_type": "execute_result"
    }
   ],
   "source": [
    "check_df(df_train)"
   ]
  },
  {
   "cell_type": "code",
   "execution_count": 19,
   "metadata": {},
   "outputs": [
    {
     "data": {
      "text/html": [
       "<div>\n",
       "<style scoped>\n",
       "    .dataframe tbody tr th:only-of-type {\n",
       "        vertical-align: middle;\n",
       "    }\n",
       "\n",
       "    .dataframe tbody tr th {\n",
       "        vertical-align: top;\n",
       "    }\n",
       "\n",
       "    .dataframe thead th {\n",
       "        text-align: right;\n",
       "    }\n",
       "</style>\n",
       "<table border=\"1\" class=\"dataframe\">\n",
       "  <thead>\n",
       "    <tr style=\"text-align: right;\">\n",
       "      <th></th>\n",
       "      <th>colname</th>\n",
       "      <th>example</th>\n",
       "      <th>count</th>\n",
       "      <th>distinct_count</th>\n",
       "      <th>null_count</th>\n",
       "      <th>dtype</th>\n",
       "    </tr>\n",
       "  </thead>\n",
       "  <tbody>\n",
       "    <tr>\n",
       "      <th>0</th>\n",
       "      <td>C1</td>\n",
       "      <td>1005</td>\n",
       "      <td>4577464</td>\n",
       "      <td>7</td>\n",
       "      <td>0</td>\n",
       "      <td>int64</td>\n",
       "    </tr>\n",
       "    <tr>\n",
       "      <th>1</th>\n",
       "      <td>banner_pos</td>\n",
       "      <td>0</td>\n",
       "      <td>4577464</td>\n",
       "      <td>6</td>\n",
       "      <td>0</td>\n",
       "      <td>int64</td>\n",
       "    </tr>\n",
       "    <tr>\n",
       "      <th>2</th>\n",
       "      <td>site_category</td>\n",
       "      <td>f028772b</td>\n",
       "      <td>4577464</td>\n",
       "      <td>22</td>\n",
       "      <td>0</td>\n",
       "      <td>object</td>\n",
       "    </tr>\n",
       "    <tr>\n",
       "      <th>3</th>\n",
       "      <td>app_category</td>\n",
       "      <td>07d7df22</td>\n",
       "      <td>4577464</td>\n",
       "      <td>28</td>\n",
       "      <td>0</td>\n",
       "      <td>object</td>\n",
       "    </tr>\n",
       "    <tr>\n",
       "      <th>4</th>\n",
       "      <td>device_type</td>\n",
       "      <td>1</td>\n",
       "      <td>4577464</td>\n",
       "      <td>4</td>\n",
       "      <td>0</td>\n",
       "      <td>int64</td>\n",
       "    </tr>\n",
       "    <tr>\n",
       "      <th>5</th>\n",
       "      <td>device_conn_type</td>\n",
       "      <td>0</td>\n",
       "      <td>4577464</td>\n",
       "      <td>4</td>\n",
       "      <td>0</td>\n",
       "      <td>int64</td>\n",
       "    </tr>\n",
       "    <tr>\n",
       "      <th>6</th>\n",
       "      <td>C15</td>\n",
       "      <td>320</td>\n",
       "      <td>4577464</td>\n",
       "      <td>8</td>\n",
       "      <td>0</td>\n",
       "      <td>int64</td>\n",
       "    </tr>\n",
       "    <tr>\n",
       "      <th>7</th>\n",
       "      <td>C16</td>\n",
       "      <td>50</td>\n",
       "      <td>4577464</td>\n",
       "      <td>9</td>\n",
       "      <td>0</td>\n",
       "      <td>int64</td>\n",
       "    </tr>\n",
       "    <tr>\n",
       "      <th>8</th>\n",
       "      <td>C18</td>\n",
       "      <td>3</td>\n",
       "      <td>4577464</td>\n",
       "      <td>4</td>\n",
       "      <td>0</td>\n",
       "      <td>int64</td>\n",
       "    </tr>\n",
       "    <tr>\n",
       "      <th>9</th>\n",
       "      <td>weekday</td>\n",
       "      <td>4</td>\n",
       "      <td>4577464</td>\n",
       "      <td>1</td>\n",
       "      <td>0</td>\n",
       "      <td>int64</td>\n",
       "    </tr>\n",
       "    <tr>\n",
       "      <th>10</th>\n",
       "      <td>period</td>\n",
       "      <td>0</td>\n",
       "      <td>4577464</td>\n",
       "      <td>24</td>\n",
       "      <td>0</td>\n",
       "      <td>int64</td>\n",
       "    </tr>\n",
       "  </tbody>\n",
       "</table>\n",
       "</div>"
      ],
      "text/plain": [
       "             colname   example    count  distinct_count  null_count   dtype\n",
       "0                 C1      1005  4577464               7           0   int64\n",
       "1         banner_pos         0  4577464               6           0   int64\n",
       "2      site_category  f028772b  4577464              22           0  object\n",
       "3       app_category  07d7df22  4577464              28           0  object\n",
       "4        device_type         1  4577464               4           0   int64\n",
       "5   device_conn_type         0  4577464               4           0   int64\n",
       "6                C15       320  4577464               8           0   int64\n",
       "7                C16        50  4577464               9           0   int64\n",
       "8                C18         3  4577464               4           0   int64\n",
       "9            weekday         4  4577464               1           0   int64\n",
       "10            period         0  4577464              24           0   int64"
      ]
     },
     "execution_count": 19,
     "metadata": {},
     "output_type": "execute_result"
    }
   ],
   "source": [
    "check_df(df_test)"
   ]
  },
  {
   "cell_type": "markdown",
   "metadata": {},
   "source": [
    "## 依Kaggle官方欄位說明，所有變數都是類別變數，故將整個df轉為string以便後續取dummies"
   ]
  },
  {
   "cell_type": "code",
   "execution_count": 20,
   "metadata": {},
   "outputs": [],
   "source": [
    "df_train = df_train.astype(str)"
   ]
  },
  {
   "cell_type": "code",
   "execution_count": 21,
   "metadata": {},
   "outputs": [],
   "source": [
    "df_test = df_test.astype(str)"
   ]
  },
  {
   "cell_type": "code",
   "execution_count": 22,
   "metadata": {},
   "outputs": [
    {
     "data": {
      "text/html": [
       "<div>\n",
       "<style scoped>\n",
       "    .dataframe tbody tr th:only-of-type {\n",
       "        vertical-align: middle;\n",
       "    }\n",
       "\n",
       "    .dataframe tbody tr th {\n",
       "        vertical-align: top;\n",
       "    }\n",
       "\n",
       "    .dataframe thead th {\n",
       "        text-align: right;\n",
       "    }\n",
       "</style>\n",
       "<table border=\"1\" class=\"dataframe\">\n",
       "  <thead>\n",
       "    <tr style=\"text-align: right;\">\n",
       "      <th></th>\n",
       "      <th>C1</th>\n",
       "      <th>banner_pos</th>\n",
       "      <th>site_category</th>\n",
       "      <th>app_category</th>\n",
       "      <th>device_type</th>\n",
       "      <th>device_conn_type</th>\n",
       "      <th>C15</th>\n",
       "      <th>C16</th>\n",
       "      <th>C18</th>\n",
       "      <th>weekday</th>\n",
       "      <th>period</th>\n",
       "    </tr>\n",
       "  </thead>\n",
       "  <tbody>\n",
       "    <tr>\n",
       "      <th>0</th>\n",
       "      <td>1005</td>\n",
       "      <td>0</td>\n",
       "      <td>f028772b</td>\n",
       "      <td>07d7df22</td>\n",
       "      <td>1</td>\n",
       "      <td>0</td>\n",
       "      <td>320</td>\n",
       "      <td>50</td>\n",
       "      <td>0</td>\n",
       "      <td>1</td>\n",
       "      <td>0</td>\n",
       "    </tr>\n",
       "    <tr>\n",
       "      <th>1</th>\n",
       "      <td>1005</td>\n",
       "      <td>0</td>\n",
       "      <td>50e219e0</td>\n",
       "      <td>0f2161f8</td>\n",
       "      <td>1</td>\n",
       "      <td>0</td>\n",
       "      <td>320</td>\n",
       "      <td>50</td>\n",
       "      <td>3</td>\n",
       "      <td>1</td>\n",
       "      <td>0</td>\n",
       "    </tr>\n",
       "    <tr>\n",
       "      <th>2</th>\n",
       "      <td>1005</td>\n",
       "      <td>0</td>\n",
       "      <td>3e814130</td>\n",
       "      <td>07d7df22</td>\n",
       "      <td>1</td>\n",
       "      <td>0</td>\n",
       "      <td>320</td>\n",
       "      <td>50</td>\n",
       "      <td>0</td>\n",
       "      <td>1</td>\n",
       "      <td>0</td>\n",
       "    </tr>\n",
       "    <tr>\n",
       "      <th>3</th>\n",
       "      <td>1005</td>\n",
       "      <td>0</td>\n",
       "      <td>50e219e0</td>\n",
       "      <td>f95efa07</td>\n",
       "      <td>1</td>\n",
       "      <td>0</td>\n",
       "      <td>320</td>\n",
       "      <td>50</td>\n",
       "      <td>0</td>\n",
       "      <td>1</td>\n",
       "      <td>0</td>\n",
       "    </tr>\n",
       "    <tr>\n",
       "      <th>4</th>\n",
       "      <td>1010</td>\n",
       "      <td>1</td>\n",
       "      <td>50e219e0</td>\n",
       "      <td>0f2161f8</td>\n",
       "      <td>4</td>\n",
       "      <td>0</td>\n",
       "      <td>320</td>\n",
       "      <td>50</td>\n",
       "      <td>3</td>\n",
       "      <td>1</td>\n",
       "      <td>0</td>\n",
       "    </tr>\n",
       "  </tbody>\n",
       "</table>\n",
       "</div>"
      ],
      "text/plain": [
       "     C1 banner_pos site_category app_category device_type device_conn_type  \\\n",
       "0  1005          0      f028772b     07d7df22           1                0   \n",
       "1  1005          0      50e219e0     0f2161f8           1                0   \n",
       "2  1005          0      3e814130     07d7df22           1                0   \n",
       "3  1005          0      50e219e0     f95efa07           1                0   \n",
       "4  1010          1      50e219e0     0f2161f8           4                0   \n",
       "\n",
       "   C15 C16 C18 weekday period  \n",
       "0  320  50   0       1      0  \n",
       "1  320  50   3       1      0  \n",
       "2  320  50   0       1      0  \n",
       "3  320  50   0       1      0  \n",
       "4  320  50   3       1      0  "
      ]
     },
     "execution_count": 22,
     "metadata": {},
     "output_type": "execute_result"
    }
   ],
   "source": [
    "#預覽整理後的資料\n",
    "df_train.head()"
   ]
  },
  {
   "cell_type": "code",
   "execution_count": 23,
   "metadata": {},
   "outputs": [
    {
     "data": {
      "text/html": [
       "<div>\n",
       "<style scoped>\n",
       "    .dataframe tbody tr th:only-of-type {\n",
       "        vertical-align: middle;\n",
       "    }\n",
       "\n",
       "    .dataframe tbody tr th {\n",
       "        vertical-align: top;\n",
       "    }\n",
       "\n",
       "    .dataframe thead th {\n",
       "        text-align: right;\n",
       "    }\n",
       "</style>\n",
       "<table border=\"1\" class=\"dataframe\">\n",
       "  <thead>\n",
       "    <tr style=\"text-align: right;\">\n",
       "      <th></th>\n",
       "      <th>C1</th>\n",
       "      <th>banner_pos</th>\n",
       "      <th>site_category</th>\n",
       "      <th>app_category</th>\n",
       "      <th>device_type</th>\n",
       "      <th>device_conn_type</th>\n",
       "      <th>C15</th>\n",
       "      <th>C16</th>\n",
       "      <th>C18</th>\n",
       "      <th>weekday</th>\n",
       "      <th>period</th>\n",
       "    </tr>\n",
       "  </thead>\n",
       "  <tbody>\n",
       "    <tr>\n",
       "      <th>0</th>\n",
       "      <td>1005</td>\n",
       "      <td>0</td>\n",
       "      <td>f028772b</td>\n",
       "      <td>07d7df22</td>\n",
       "      <td>1</td>\n",
       "      <td>0</td>\n",
       "      <td>320</td>\n",
       "      <td>50</td>\n",
       "      <td>3</td>\n",
       "      <td>4</td>\n",
       "      <td>0</td>\n",
       "    </tr>\n",
       "    <tr>\n",
       "      <th>1</th>\n",
       "      <td>1005</td>\n",
       "      <td>0</td>\n",
       "      <td>28905ebd</td>\n",
       "      <td>07d7df22</td>\n",
       "      <td>1</td>\n",
       "      <td>0</td>\n",
       "      <td>320</td>\n",
       "      <td>50</td>\n",
       "      <td>0</td>\n",
       "      <td>4</td>\n",
       "      <td>0</td>\n",
       "    </tr>\n",
       "    <tr>\n",
       "      <th>2</th>\n",
       "      <td>1005</td>\n",
       "      <td>0</td>\n",
       "      <td>28905ebd</td>\n",
       "      <td>07d7df22</td>\n",
       "      <td>1</td>\n",
       "      <td>0</td>\n",
       "      <td>320</td>\n",
       "      <td>50</td>\n",
       "      <td>0</td>\n",
       "      <td>4</td>\n",
       "      <td>0</td>\n",
       "    </tr>\n",
       "    <tr>\n",
       "      <th>3</th>\n",
       "      <td>1005</td>\n",
       "      <td>0</td>\n",
       "      <td>50e219e0</td>\n",
       "      <td>0f2161f8</td>\n",
       "      <td>1</td>\n",
       "      <td>0</td>\n",
       "      <td>320</td>\n",
       "      <td>50</td>\n",
       "      <td>3</td>\n",
       "      <td>4</td>\n",
       "      <td>0</td>\n",
       "    </tr>\n",
       "    <tr>\n",
       "      <th>4</th>\n",
       "      <td>1005</td>\n",
       "      <td>0</td>\n",
       "      <td>50e219e0</td>\n",
       "      <td>f95efa07</td>\n",
       "      <td>1</td>\n",
       "      <td>0</td>\n",
       "      <td>320</td>\n",
       "      <td>50</td>\n",
       "      <td>0</td>\n",
       "      <td>4</td>\n",
       "      <td>0</td>\n",
       "    </tr>\n",
       "  </tbody>\n",
       "</table>\n",
       "</div>"
      ],
      "text/plain": [
       "     C1 banner_pos site_category app_category device_type device_conn_type  \\\n",
       "0  1005          0      f028772b     07d7df22           1                0   \n",
       "1  1005          0      28905ebd     07d7df22           1                0   \n",
       "2  1005          0      28905ebd     07d7df22           1                0   \n",
       "3  1005          0      50e219e0     0f2161f8           1                0   \n",
       "4  1005          0      50e219e0     f95efa07           1                0   \n",
       "\n",
       "   C15 C16 C18 weekday period  \n",
       "0  320  50   3       4      0  \n",
       "1  320  50   0       4      0  \n",
       "2  320  50   0       4      0  \n",
       "3  320  50   3       4      0  \n",
       "4  320  50   0       4      0  "
      ]
     },
     "execution_count": 23,
     "metadata": {},
     "output_type": "execute_result"
    }
   ],
   "source": [
    "df_test.head()"
   ]
  },
  {
   "cell_type": "markdown",
   "metadata": {},
   "source": [
    "## 將test_set和train_set合在一起取dummy"
   ]
  },
  {
   "cell_type": "code",
   "execution_count": 24,
   "metadata": {},
   "outputs": [],
   "source": [
    "def get_dummies(df1, df2):\n",
    "    df1_cnt = len(df1)\n",
    "    df = pd.concat([df1, df2], axis=0)\n",
    "    df = pd.get_dummies(df)\n",
    "    df1 = df.iloc[ :df1_cnt]\n",
    "    df2 = df.iloc[df1_cnt: ]\n",
    "    return df1, df2"
   ]
  },
  {
   "cell_type": "code",
   "execution_count": 25,
   "metadata": {},
   "outputs": [],
   "source": [
    "df_train, df_test = get_dummies(df_train, df_test)"
   ]
  },
  {
   "cell_type": "code",
   "execution_count": 26,
   "metadata": {},
   "outputs": [
    {
     "data": {
      "text/html": [
       "<div>\n",
       "<style scoped>\n",
       "    .dataframe tbody tr th:only-of-type {\n",
       "        vertical-align: middle;\n",
       "    }\n",
       "\n",
       "    .dataframe tbody tr th {\n",
       "        vertical-align: top;\n",
       "    }\n",
       "\n",
       "    .dataframe thead th {\n",
       "        text-align: right;\n",
       "    }\n",
       "</style>\n",
       "<table border=\"1\" class=\"dataframe\">\n",
       "  <thead>\n",
       "    <tr style=\"text-align: right;\">\n",
       "      <th></th>\n",
       "      <th>colname</th>\n",
       "      <th>example</th>\n",
       "      <th>count</th>\n",
       "      <th>distinct_count</th>\n",
       "      <th>null_count</th>\n",
       "      <th>dtype</th>\n",
       "    </tr>\n",
       "  </thead>\n",
       "  <tbody>\n",
       "    <tr>\n",
       "      <th>0</th>\n",
       "      <td>C1_1001</td>\n",
       "      <td>0</td>\n",
       "      <td>4731302</td>\n",
       "      <td>2</td>\n",
       "      <td>0</td>\n",
       "      <td>uint8</td>\n",
       "    </tr>\n",
       "    <tr>\n",
       "      <th>1</th>\n",
       "      <td>C1_1002</td>\n",
       "      <td>0</td>\n",
       "      <td>4731302</td>\n",
       "      <td>2</td>\n",
       "      <td>0</td>\n",
       "      <td>uint8</td>\n",
       "    </tr>\n",
       "    <tr>\n",
       "      <th>2</th>\n",
       "      <td>C1_1005</td>\n",
       "      <td>1</td>\n",
       "      <td>4731302</td>\n",
       "      <td>2</td>\n",
       "      <td>0</td>\n",
       "      <td>uint8</td>\n",
       "    </tr>\n",
       "    <tr>\n",
       "      <th>3</th>\n",
       "      <td>C1_1007</td>\n",
       "      <td>0</td>\n",
       "      <td>4731302</td>\n",
       "      <td>2</td>\n",
       "      <td>0</td>\n",
       "      <td>uint8</td>\n",
       "    </tr>\n",
       "    <tr>\n",
       "      <th>4</th>\n",
       "      <td>C1_1008</td>\n",
       "      <td>0</td>\n",
       "      <td>4731302</td>\n",
       "      <td>2</td>\n",
       "      <td>0</td>\n",
       "      <td>uint8</td>\n",
       "    </tr>\n",
       "    <tr>\n",
       "      <th>...</th>\n",
       "      <td>...</td>\n",
       "      <td>...</td>\n",
       "      <td>...</td>\n",
       "      <td>...</td>\n",
       "      <td>...</td>\n",
       "      <td>...</td>\n",
       "    </tr>\n",
       "    <tr>\n",
       "      <th>126</th>\n",
       "      <td>period_5</td>\n",
       "      <td>0</td>\n",
       "      <td>4731302</td>\n",
       "      <td>2</td>\n",
       "      <td>0</td>\n",
       "      <td>uint8</td>\n",
       "    </tr>\n",
       "    <tr>\n",
       "      <th>127</th>\n",
       "      <td>period_6</td>\n",
       "      <td>0</td>\n",
       "      <td>4731302</td>\n",
       "      <td>2</td>\n",
       "      <td>0</td>\n",
       "      <td>uint8</td>\n",
       "    </tr>\n",
       "    <tr>\n",
       "      <th>128</th>\n",
       "      <td>period_7</td>\n",
       "      <td>0</td>\n",
       "      <td>4731302</td>\n",
       "      <td>2</td>\n",
       "      <td>0</td>\n",
       "      <td>uint8</td>\n",
       "    </tr>\n",
       "    <tr>\n",
       "      <th>129</th>\n",
       "      <td>period_8</td>\n",
       "      <td>0</td>\n",
       "      <td>4731302</td>\n",
       "      <td>2</td>\n",
       "      <td>0</td>\n",
       "      <td>uint8</td>\n",
       "    </tr>\n",
       "    <tr>\n",
       "      <th>130</th>\n",
       "      <td>period_9</td>\n",
       "      <td>0</td>\n",
       "      <td>4731302</td>\n",
       "      <td>2</td>\n",
       "      <td>0</td>\n",
       "      <td>uint8</td>\n",
       "    </tr>\n",
       "  </tbody>\n",
       "</table>\n",
       "<p>131 rows × 6 columns</p>\n",
       "</div>"
      ],
      "text/plain": [
       "      colname  example    count  distinct_count  null_count  dtype\n",
       "0     C1_1001        0  4731302               2           0  uint8\n",
       "1     C1_1002        0  4731302               2           0  uint8\n",
       "2     C1_1005        1  4731302               2           0  uint8\n",
       "3     C1_1007        0  4731302               2           0  uint8\n",
       "4     C1_1008        0  4731302               2           0  uint8\n",
       "..        ...      ...      ...             ...         ...    ...\n",
       "126  period_5        0  4731302               2           0  uint8\n",
       "127  period_6        0  4731302               2           0  uint8\n",
       "128  period_7        0  4731302               2           0  uint8\n",
       "129  period_8        0  4731302               2           0  uint8\n",
       "130  period_9        0  4731302               2           0  uint8\n",
       "\n",
       "[131 rows x 6 columns]"
      ]
     },
     "execution_count": 26,
     "metadata": {},
     "output_type": "execute_result"
    }
   ],
   "source": [
    "check_df(df_train)"
   ]
  },
  {
   "cell_type": "markdown",
   "metadata": {},
   "source": [
    "# 四、模型訓練"
   ]
  },
  {
   "cell_type": "markdown",
   "metadata": {},
   "source": [
    "## train_set, cv_set切割"
   ]
  },
  {
   "cell_type": "code",
   "execution_count": 27,
   "metadata": {},
   "outputs": [],
   "source": [
    "from sklearn.model_selection import train_test_split\n",
    "x_train, x_cv, y_train, y_cv = train_test_split(df_train, Y, random_state=1, test_size=0.3)"
   ]
  },
  {
   "cell_type": "markdown",
   "metadata": {},
   "source": [
    "## 設定模型衡量指標"
   ]
  },
  {
   "cell_type": "code",
   "execution_count": 28,
   "metadata": {},
   "outputs": [],
   "source": [
    "from sklearn.metrics import accuracy_score, precision_score, recall_score, roc_auc_score, confusion_matrix"
   ]
  },
  {
   "cell_type": "code",
   "execution_count": 29,
   "metadata": {},
   "outputs": [],
   "source": [
    "def model_eval(y_cv, y_pred):\n",
    "    accuracy = accuracy_score(y_cv, y_pred)\n",
    "    precision = precision_score(y_cv, y_pred)\n",
    "    recall = recall_score(y_cv, y_pred)\n",
    "    auc = roc_auc_score(y_cv, y_pred)\n",
    "    print(\"Accuracy:\" ,accuracy, \" Precision:\", precision, \" Recall:\", recall ,\" auc:\", auc )\n",
    "    mat_con = (confusion_matrix(y_cv, y_pred, labels=[0, 1]))\n",
    "    fig, px = plt.subplots(figsize=(7.5, 7.5))\n",
    "    px.matshow(mat_con, cmap=plt.cm.YlOrRd, alpha=0.5)\n",
    "    for m in range(mat_con.shape[0]):\n",
    "        for n in range(mat_con.shape[1]):\n",
    "            px.text(x=m,y=n,s=mat_con[m, n], va='center', ha='center', size='xx-large')\n",
    "    plt.xlabel('Predictions', fontsize=16)\n",
    "    plt.ylabel('Actuals', fontsize=16)\n",
    "    plt.title('Confusion Matrix', fontsize=15)\n",
    "    plt.show()"
   ]
  },
  {
   "cell_type": "markdown",
   "metadata": {},
   "source": [
    "## 模型一：使用XGBoost訓練"
   ]
  },
  {
   "cell_type": "code",
   "execution_count": 30,
   "metadata": {},
   "outputs": [],
   "source": [
    "from xgboost import XGBClassifier"
   ]
  },
  {
   "cell_type": "markdown",
   "metadata": {},
   "source": [
    "### Base Model"
   ]
  },
  {
   "cell_type": "code",
   "execution_count": 31,
   "metadata": {},
   "outputs": [
    {
     "data": {
      "text/plain": [
       "XGBClassifier(base_score=0.5, booster='gbtree', colsample_bylevel=1,\n",
       "              colsample_bynode=1, colsample_bytree=1, gamma=0, gpu_id=-1,\n",
       "              importance_type='gain', interaction_constraints='',\n",
       "              learning_rate=0.300000012, max_delta_step=0, max_depth=3,\n",
       "              min_child_weight=1, missing=nan, monotone_constraints='()',\n",
       "              n_estimators=100, n_jobs=0, num_parallel_tree=1, random_state=0,\n",
       "              reg_alpha=0, reg_lambda=1, scale_pos_weight=1, subsample=1,\n",
       "              tree_method='exact', validate_parameters=1, verbosity=None)"
      ]
     },
     "execution_count": 31,
     "metadata": {},
     "output_type": "execute_result"
    }
   ],
   "source": [
    "model = XGBClassifier(max_depth = 3)\n",
    "model.fit(x_train, y_train)"
   ]
  },
  {
   "cell_type": "code",
   "execution_count": 32,
   "metadata": {},
   "outputs": [],
   "source": [
    "y_pred_xgb = model.predict(x_cv)"
   ]
  },
  {
   "cell_type": "code",
   "execution_count": 33,
   "metadata": {},
   "outputs": [
    {
     "name": "stdout",
     "output_type": "stream",
     "text": [
      "Accuracy: 0.7241908677735733  Precision: 0.6373014374713449  Recall: 0.11475433718996224  auc: 0.5440293909252767\n"
     ]
    },
    {
     "data": {
      "image/png": "[encoded data removed]",
      "text/plain": [
       "<Figure size 540x540 with 1 Axes>"
      ]
     },
     "metadata": {
      "needs_background": "light"
     },
     "output_type": "display_data"
    }
   ],
   "source": [
    "model_eval(y_cv, y_pred_xgb)"
   ]
  },
  {
   "cell_type": "markdown",
   "metadata": {},
   "source": [
    "### 調參：增加max_depth"
   ]
  },
  {
   "cell_type": "code",
   "execution_count": 40,
   "metadata": {},
   "outputs": [
    {
     "data": {
      "text/plain": [
       "XGBClassifier(base_score=0.5, booster='gbtree', colsample_bylevel=1,\n",
       "              colsample_bynode=1, colsample_bytree=1, gamma=0, gpu_id=-1,\n",
       "              importance_type='gain', interaction_constraints='',\n",
       "              learning_rate=0.300000012, max_delta_step=0, max_depth=5,\n",
       "              min_child_weight=1, missing=nan, monotone_constraints='()',\n",
       "              n_estimators=100, n_jobs=0, num_parallel_tree=1, random_state=0,\n",
       "              reg_alpha=0, reg_lambda=1, scale_pos_weight=1, subsample=1,\n",
       "              tree_method='exact', validate_parameters=1, verbosity=None)"
      ]
     },
     "execution_count": 40,
     "metadata": {},
     "output_type": "execute_result"
    }
   ],
   "source": [
    "model = XGBClassifier(max_depth = 5)\n",
    "model.fit(x_train, y_train)"
   ]
  },
  {
   "cell_type": "code",
   "execution_count": 41,
   "metadata": {},
   "outputs": [],
   "source": [
    "y_pred_xgb = model.predict(x_cv)"
   ]
  },
  {
   "cell_type": "code",
   "execution_count": 42,
   "metadata": {},
   "outputs": [
    {
     "name": "stdout",
     "output_type": "stream",
     "text": [
      "Accuracy: 0.7247143317098671  Precision: 0.6348914196607743  Recall: 0.1206084813461375  auc: 0.5461287092333131\n"
     ]
    },
    {
     "data": {
      "image/png": "[encoded data removed]",
      "text/plain": [
       "<Figure size 540x540 with 1 Axes>"
      ]
     },
     "metadata": {
      "needs_background": "light"
     },
     "output_type": "display_data"
    }
   ],
   "source": [
    "model_eval(y_cv, y_pred_xgb)"
   ]
  },
  {
   "cell_type": "code",
   "execution_count": 45,
   "metadata": {},
   "outputs": [],
   "source": [
    "#特徵重要性\n",
    "import shap"
   ]
  },
  {
   "cell_type": "code",
   "execution_count": 47,
   "metadata": {},
   "outputs": [],
   "source": [
    "explainer = shap.TreeExplainer(model)"
   ]
  },
  {
   "cell_type": "code",
   "execution_count": 50,
   "metadata": {},
   "outputs": [],
   "source": [
    "shap_values = explainer.shap_values(x_train)"
   ]
  },
  {
   "cell_type": "code",
   "execution_count": 51,
   "metadata": {},
   "outputs": [
    {
     "data": {
      "image/png": "[encoded data removed]",
      "text/plain": [
       "<Figure size 576x684 with 2 Axes>"
      ]
     },
     "metadata": {
      "needs_background": "light"
     },
     "output_type": "display_data"
    }
   ],
   "source": [
    "shap.summary_plot(shap_values, x_train)"
   ]
  },
  {
   "cell_type": "code",
   "execution_count": 79,
   "metadata": {},
   "outputs": [],
   "source": [
    "#採用SHAP值前20名變數給神經網路訓練\n",
    "x_train_shap = x_train[['C18_2', 'C18_1', 'C16_250', 'app_category_07d7df22', 'site_category_28905ebd', 'banner_pos_0', 'site_category_f028772b', 'device_conn_type_0', 'app_category_f95efa07', 'C18_0', 'weekday_2', 'C1_1002', 'app_category_cef3e649', 'C18_3', 'app_category_0f2161f8', 'site_category_50e219e0', 'app_category_8ded1f7a', 'device_conn_type_3', 'weekday_3', 'site_category_f66779e6']]\n",
    "x_cv_shap = x_cv[['C18_2', 'C18_1', 'C16_250', 'app_category_07d7df22', 'site_category_28905ebd', 'banner_pos_0', 'site_category_f028772b', 'device_conn_type_0', 'app_category_f95efa07', 'C18_0', 'weekday_2', 'C1_1002', 'app_category_cef3e649', 'C18_3', 'app_category_0f2161f8', 'site_category_50e219e0', 'app_category_8ded1f7a', 'device_conn_type_3', 'weekday_3', 'site_category_f66779e6']]\n",
    "df_test_shap = df_test[['C18_2', 'C18_1', 'C16_250', 'app_category_07d7df22', 'site_category_28905ebd', 'banner_pos_0', 'site_category_f028772b', 'device_conn_type_0', 'app_category_f95efa07', 'C18_0', 'weekday_2', 'C1_1002', 'app_category_cef3e649', 'C18_3', 'app_category_0f2161f8', 'site_category_50e219e0', 'app_category_8ded1f7a', 'device_conn_type_3', 'weekday_3', 'site_category_f66779e6']]"
   ]
  },
  {
   "cell_type": "markdown",
   "metadata": {},
   "source": [
    "## 模型二：使用neural networks訓練(shap值篩選變數)"
   ]
  },
  {
   "cell_type": "code",
   "execution_count": 66,
   "metadata": {},
   "outputs": [],
   "source": [
    "import keras\n",
    "from tensorflow.keras.models import Model\n",
    "from tensorflow.keras.layers import Dense, Input, Dropout, Activation"
   ]
  },
  {
   "cell_type": "markdown",
   "metadata": {},
   "source": [
    "### Base Model"
   ]
  },
  {
   "cell_type": "code",
   "execution_count": 67,
   "metadata": {},
   "outputs": [],
   "source": [
    "def nn_model(input_shape):\n",
    "    input_var = Input(shape = input_shape, dtype = 'int32')\n",
    "    X = Dense(units = 8, activation = 'relu')(input_var)\n",
    "    X = Dense(units = 4, activation = 'relu')(X)\n",
    "    X = Dense(units = 2)(X)\n",
    "    X = Activation('softmax')(X)    \n",
    "\n",
    "    nn_model = Model(inputs=input_var, outputs=X)\n",
    "    \n",
    "    return nn_model"
   ]
  },
  {
   "cell_type": "code",
   "execution_count": 68,
   "metadata": {},
   "outputs": [],
   "source": [
    "input_var = len(check_df(x_train_shap))"
   ]
  },
  {
   "cell_type": "code",
   "execution_count": 69,
   "metadata": {},
   "outputs": [
    {
     "name": "stdout",
     "output_type": "stream",
     "text": [
      "Model: \"model\"\n",
      "_________________________________________________________________\n",
      " Layer (type)                Output Shape              Param #   \n",
      "=================================================================\n",
      " input_1 (InputLayer)        [(None, 20)]              0         \n",
      "                                                                 \n",
      " dense (Dense)               (None, 8)                 168       \n",
      "                                                                 \n",
      " dense_1 (Dense)             (None, 4)                 36        \n",
      "                                                                 \n",
      " dense_2 (Dense)             (None, 2)                 10        \n",
      "                                                                 \n",
      " activation (Activation)     (None, 2)                 0         \n",
      "                                                                 \n",
      "=================================================================\n",
      "Total params: 214\n",
      "Trainable params: 214\n",
      "Non-trainable params: 0\n",
      "_________________________________________________________________\n"
     ]
    }
   ],
   "source": [
    "nn_model = nn_model((input_var,))\n",
    "nn_model.summary()"
   ]
  },
  {
   "cell_type": "code",
   "execution_count": 70,
   "metadata": {},
   "outputs": [],
   "source": [
    "opt = keras.optimizers.Adam(learning_rate=0.001)\n",
    "nn_model.compile(loss='binary_crossentropy', optimizer=opt, metrics=['accuracy', 'AUC'])"
   ]
  },
  {
   "cell_type": "code",
   "execution_count": 71,
   "metadata": {},
   "outputs": [],
   "source": [
    "def convert_to_one_hot(Y, C):\n",
    "    Y = np.eye(C)[Y-1]\n",
    "    return Y"
   ]
  },
  {
   "cell_type": "code",
   "execution_count": 72,
   "metadata": {},
   "outputs": [],
   "source": [
    "y_oh = convert_to_one_hot(y_train, 2)"
   ]
  },
  {
   "cell_type": "code",
   "execution_count": 73,
   "metadata": {},
   "outputs": [
    {
     "name": "stdout",
     "output_type": "stream",
     "text": [
      "Epoch 1/10\n",
      "332/332 [==============================] - 2s 3ms/step - loss: 0.5931 - accuracy: 0.7070 - auc: 0.7511\n",
      "Epoch 2/10\n",
      "332/332 [==============================] - 1s 3ms/step - loss: 0.5692 - accuracy: 0.7099 - auc: 0.7733\n",
      "Epoch 3/10\n",
      "332/332 [==============================] - 1s 3ms/step - loss: 0.5667 - accuracy: 0.7117 - auc: 0.7755\n",
      "Epoch 4/10\n",
      "332/332 [==============================] - 1s 3ms/step - loss: 0.5655 - accuracy: 0.7201 - auc: 0.7773\n",
      "Epoch 5/10\n",
      "332/332 [==============================] - 1s 3ms/step - loss: 0.5647 - accuracy: 0.7222 - auc: 0.7781\n",
      "Epoch 6/10\n",
      "332/332 [==============================] - 1s 3ms/step - loss: 0.5640 - accuracy: 0.7223 - auc: 0.7788\n",
      "Epoch 7/10\n",
      "332/332 [==============================] - 1s 3ms/step - loss: 0.5634 - accuracy: 0.7222 - auc: 0.7793\n",
      "Epoch 8/10\n",
      "332/332 [==============================] - 1s 3ms/step - loss: 0.5629 - accuracy: 0.7222 - auc: 0.7797\n",
      "Epoch 9/10\n",
      "332/332 [==============================] - 1s 3ms/step - loss: 0.5626 - accuracy: 0.7221 - auc: 0.7800\n",
      "Epoch 10/10\n",
      "332/332 [==============================] - 1s 3ms/step - loss: 0.5623 - accuracy: 0.7221 - auc: 0.7802\n"
     ]
    },
    {
     "data": {
      "text/plain": [
       "<keras.callbacks.History at 0x1cd27a0b1c0>"
      ]
     },
     "execution_count": 73,
     "metadata": {},
     "output_type": "execute_result"
    }
   ],
   "source": [
    "nn_model.fit(x_train_shap, y_oh, epochs = 10, batch_size = 10000, shuffle=True)"
   ]
  },
  {
   "cell_type": "code",
   "execution_count": 75,
   "metadata": {},
   "outputs": [
    {
     "name": "stdout",
     "output_type": "stream",
     "text": [
      "44356/44356 [==============================] - 33s 737us/step\n"
     ]
    }
   ],
   "source": [
    "y_pred_nn = nn_model.predict(x_cv_shap)"
   ]
  },
  {
   "cell_type": "code",
   "execution_count": 76,
   "metadata": {},
   "outputs": [],
   "source": [
    "y_pred_nn = pd.DataFrame(y_pred_nn).drop(1, axis=1)"
   ]
  },
  {
   "cell_type": "code",
   "execution_count": 77,
   "metadata": {},
   "outputs": [],
   "source": [
    "y_pred_nn = y_pred_nn.round(0).astype(int)"
   ]
  },
  {
   "cell_type": "code",
   "execution_count": 78,
   "metadata": {},
   "outputs": [
    {
     "name": "stdout",
     "output_type": "stream",
     "text": [
      "Accuracy: 0.7222942797298277  Precision: 0.6217314633675916  Recall: 0.10957763236168946  auc: 0.5411631355667587\n"
     ]
    },
    {
     "data": {
      "image/png": "[encoded data removed]",
      "text/plain": [
       "<Figure size 540x540 with 1 Axes>"
      ]
     },
     "metadata": {
      "needs_background": "light"
     },
     "output_type": "display_data"
    }
   ],
   "source": [
    "model_eval(y_cv, y_pred_nn)"
   ]
  },
  {
   "cell_type": "markdown",
   "metadata": {},
   "source": [
    "### 調參：增加dropout層"
   ]
  },
  {
   "cell_type": "code",
   "execution_count": 88,
   "metadata": {},
   "outputs": [],
   "source": [
    "def nn_model2(input_shape):\n",
    "    input_var = Input(shape = input_shape, dtype = 'int32')\n",
    "    X = Dense(units = 8, activation = 'relu')(input_var)\n",
    "    X = Dropout(rate = 0.2)(X)\n",
    "    X = Dense(units = 4, activation = 'relu')(X)\n",
    "    X = Dropout(rate = 0.2)(X)\n",
    "    X = Dense(units = 2)(X)\n",
    "    X = Activation('softmax')(X)     \n",
    "\n",
    "    nn_model = Model(inputs=input_var, outputs=X)\n",
    "    \n",
    "    return nn_model"
   ]
  },
  {
   "cell_type": "code",
   "execution_count": 89,
   "metadata": {},
   "outputs": [
    {
     "name": "stdout",
     "output_type": "stream",
     "text": [
      "Model: \"model_1\"\n",
      "_________________________________________________________________\n",
      " Layer (type)                Output Shape              Param #   \n",
      "=================================================================\n",
      " input_2 (InputLayer)        [(None, 20)]              0         \n",
      "                                                                 \n",
      " dense_3 (Dense)             (None, 8)                 168       \n",
      "                                                                 \n",
      " dropout (Dropout)           (None, 8)                 0         \n",
      "                                                                 \n",
      " dense_4 (Dense)             (None, 4)                 36        \n",
      "                                                                 \n",
      " dropout_1 (Dropout)         (None, 4)                 0         \n",
      "                                                                 \n",
      " dense_5 (Dense)             (None, 2)                 10        \n",
      "                                                                 \n",
      " activation_1 (Activation)   (None, 2)                 0         \n",
      "                                                                 \n",
      "=================================================================\n",
      "Total params: 214\n",
      "Trainable params: 214\n",
      "Non-trainable params: 0\n",
      "_________________________________________________________________\n"
     ]
    }
   ],
   "source": [
    "nn_model2 = nn_model2((input_var,))\n",
    "nn_model2.summary()"
   ]
  },
  {
   "cell_type": "code",
   "execution_count": 90,
   "metadata": {},
   "outputs": [],
   "source": [
    "opt = keras.optimizers.Adam(learning_rate=0.001)\n",
    "nn_model2.compile(loss='binary_crossentropy', optimizer=opt, metrics=['accuracy', 'AUC'])"
   ]
  },
  {
   "cell_type": "code",
   "execution_count": 91,
   "metadata": {
    "scrolled": true
   },
   "outputs": [
    {
     "name": "stdout",
     "output_type": "stream",
     "text": [
      "Epoch 1/10\n",
      "332/332 [==============================] - 2s 5ms/step - loss: 0.6490 - accuracy: 0.6644 - auc: 0.6924\n",
      "Epoch 2/10\n",
      "332/332 [==============================] - 2s 5ms/step - loss: 0.5920 - accuracy: 0.7170 - auc: 0.7518\n",
      "Epoch 3/10\n",
      "332/332 [==============================] - 2s 5ms/step - loss: 0.5837 - accuracy: 0.7173 - auc: 0.7573\n",
      "Epoch 4/10\n",
      "332/332 [==============================] - 2s 5ms/step - loss: 0.5789 - accuracy: 0.7181 - auc: 0.7611\n",
      "Epoch 5/10\n",
      "332/332 [==============================] - 2s 5ms/step - loss: 0.5746 - accuracy: 0.7189 - auc: 0.7666\n",
      "Epoch 6/10\n",
      "332/332 [==============================] - 2s 5ms/step - loss: 0.5720 - accuracy: 0.7196 - auc: 0.7701\n",
      "Epoch 7/10\n",
      "332/332 [==============================] - 2s 6ms/step - loss: 0.5709 - accuracy: 0.7197 - auc: 0.7714\n",
      "Epoch 8/10\n",
      "332/332 [==============================] - 2s 7ms/step - loss: 0.5705 - accuracy: 0.7198 - auc: 0.7718\n",
      "Epoch 9/10\n",
      "332/332 [==============================] - 2s 5ms/step - loss: 0.5702 - accuracy: 0.7197 - auc: 0.7721\n",
      "Epoch 10/10\n",
      "332/332 [==============================] - 2s 5ms/step - loss: 0.5699 - accuracy: 0.7197 - auc: 0.7726\n"
     ]
    },
    {
     "data": {
      "text/plain": [
       "<keras.callbacks.History at 0x1cd2b12dac0>"
      ]
     },
     "execution_count": 91,
     "metadata": {},
     "output_type": "execute_result"
    }
   ],
   "source": [
    "nn_model2.fit(x_train_shap, y_oh, epochs = 10, batch_size = 10000, shuffle=True)"
   ]
  },
  {
   "cell_type": "code",
   "execution_count": 93,
   "metadata": {},
   "outputs": [
    {
     "name": "stdout",
     "output_type": "stream",
     "text": [
      "44356/44356 [==============================] - 34s 774us/step\n"
     ]
    }
   ],
   "source": [
    "y_pred_nn = nn_model2.predict(x_cv_shap)"
   ]
  },
  {
   "cell_type": "code",
   "execution_count": 94,
   "metadata": {},
   "outputs": [],
   "source": [
    "y_pred_nn = pd.DataFrame(y_pred_nn).drop(1, axis=1)"
   ]
  },
  {
   "cell_type": "code",
   "execution_count": 95,
   "metadata": {},
   "outputs": [],
   "source": [
    "y_pred_nn = y_pred_nn.round(0).astype(int)"
   ]
  },
  {
   "cell_type": "code",
   "execution_count": 96,
   "metadata": {},
   "outputs": [
    {
     "name": "stdout",
     "output_type": "stream",
     "text": [
      "Accuracy: 0.7218553590941467  Precision: 0.6354535776142882  Recall: 0.09710206509730603  auc: 0.5371659444236443\n"
     ]
    },
    {
     "data": {
      "image/png": "[encoded data removed]",
      "text/plain": [
       "<Figure size 540x540 with 1 Axes>"
      ]
     },
     "metadata": {
      "needs_background": "light"
     },
     "output_type": "display_data"
    }
   ],
   "source": [
    "model_eval(y_cv, y_pred_nn)"
   ]
  },
  {
   "cell_type": "markdown",
   "metadata": {},
   "source": [
    "# 五、提交預測結果"
   ]
  },
  {
   "cell_type": "code",
   "execution_count": 97,
   "metadata": {},
   "outputs": [
    {
     "name": "stdout",
     "output_type": "stream",
     "text": [
      "143046/143046 [==============================] - 113s 788us/step\n"
     ]
    }
   ],
   "source": [
    "y_submit_nn = nn_model2.predict(df_test_shap)"
   ]
  },
  {
   "cell_type": "code",
   "execution_count": 98,
   "metadata": {},
   "outputs": [],
   "source": [
    "df_submit_nn = pd.DataFrame(y_submit_nn).drop(1, axis=1)"
   ]
  },
  {
   "cell_type": "code",
   "execution_count": 36,
   "metadata": {},
   "outputs": [],
   "source": [
    "y_submit = pd.read_csv('sampleSubmission.csv')"
   ]
  },
  {
   "cell_type": "code",
   "execution_count": 99,
   "metadata": {},
   "outputs": [],
   "source": [
    "y_submit['click'] = df_submit_nn[0]"
   ]
  },
  {
   "cell_type": "code",
   "execution_count": 102,
   "metadata": {},
   "outputs": [],
   "source": [
    "y_submit.to_csv('y_submit.csv', index=False)"
   ]
  },
  {
   "cell_type": "code",
   "execution_count": 101,
   "metadata": {},
   "outputs": [
    {
     "data": {
      "text/html": [
       "<div>\n",
       "<style scoped>\n",
       "    .dataframe tbody tr th:only-of-type {\n",
       "        vertical-align: middle;\n",
       "    }\n",
       "\n",
       "    .dataframe tbody tr th {\n",
       "        vertical-align: top;\n",
       "    }\n",
       "\n",
       "    .dataframe thead th {\n",
       "        text-align: right;\n",
       "    }\n",
       "</style>\n",
       "<table border=\"1\" class=\"dataframe\">\n",
       "  <thead>\n",
       "    <tr style=\"text-align: right;\">\n",
       "      <th></th>\n",
       "      <th>id</th>\n",
       "      <th>click</th>\n",
       "    </tr>\n",
       "  </thead>\n",
       "  <tbody>\n",
       "    <tr>\n",
       "      <th>0</th>\n",
       "      <td>10000174058809263569</td>\n",
       "      <td>0.071182</td>\n",
       "    </tr>\n",
       "    <tr>\n",
       "      <th>1</th>\n",
       "      <td>10000182526920855428</td>\n",
       "      <td>0.206604</td>\n",
       "    </tr>\n",
       "    <tr>\n",
       "      <th>2</th>\n",
       "      <td>10000554139829213984</td>\n",
       "      <td>0.206604</td>\n",
       "    </tr>\n",
       "    <tr>\n",
       "      <th>3</th>\n",
       "      <td>10001094637809798845</td>\n",
       "      <td>0.074965</td>\n",
       "    </tr>\n",
       "    <tr>\n",
       "      <th>4</th>\n",
       "      <td>10001377041558670745</td>\n",
       "      <td>0.176820</td>\n",
       "    </tr>\n",
       "    <tr>\n",
       "      <th>...</th>\n",
       "      <td>...</td>\n",
       "      <td>...</td>\n",
       "    </tr>\n",
       "    <tr>\n",
       "      <th>4577459</th>\n",
       "      <td>9998166651591969718</td>\n",
       "      <td>0.628945</td>\n",
       "    </tr>\n",
       "    <tr>\n",
       "      <th>4577460</th>\n",
       "      <td>9998249812366450951</td>\n",
       "      <td>0.072933</td>\n",
       "    </tr>\n",
       "    <tr>\n",
       "      <th>4577461</th>\n",
       "      <td>99988023653614546</td>\n",
       "      <td>0.628945</td>\n",
       "    </tr>\n",
       "    <tr>\n",
       "      <th>4577462</th>\n",
       "      <td>9999086574712596585</td>\n",
       "      <td>0.002745</td>\n",
       "    </tr>\n",
       "    <tr>\n",
       "      <th>4577463</th>\n",
       "      <td>99992636456518364</td>\n",
       "      <td>0.072933</td>\n",
       "    </tr>\n",
       "  </tbody>\n",
       "</table>\n",
       "<p>4577464 rows × 2 columns</p>\n",
       "</div>"
      ],
      "text/plain": [
       "                           id     click\n",
       "0        10000174058809263569  0.071182\n",
       "1        10000182526920855428  0.206604\n",
       "2        10000554139829213984  0.206604\n",
       "3        10001094637809798845  0.074965\n",
       "4        10001377041558670745  0.176820\n",
       "...                       ...       ...\n",
       "4577459   9998166651591969718  0.628945\n",
       "4577460   9998249812366450951  0.072933\n",
       "4577461     99988023653614546  0.628945\n",
       "4577462   9999086574712596585  0.002745\n",
       "4577463     99992636456518364  0.072933\n",
       "\n",
       "[4577464 rows x 2 columns]"
      ]
     },
     "execution_count": 101,
     "metadata": {},
     "output_type": "execute_result"
    }
   ],
   "source": [
    "y_submit"
   ]
  },
  {
   "cell_type": "code",
   "execution_count": null,
   "metadata": {},
   "outputs": [],
   "source": []
  },
  {
   "cell_type": "code",
   "execution_count": null,
   "metadata": {},
   "outputs": [],
   "source": []
  }
 ],
 "metadata": {
  "kernelspec": {
   "display_name": "Python 3",
   "language": "python",
   "name": "python3"
  },
  "language_info": {
   "codemirror_mode": {
    "name": "ipython",
    "version": 3
   },
   "file_extension": ".py",
   "mimetype": "text/x-python",
   "name": "python",
   "nbconvert_exporter": "python",
   "pygments_lexer": "ipython3",
   "version": "3.8.3"
  }
 },
 "nbformat": 4,
 "nbformat_minor": 4
}
