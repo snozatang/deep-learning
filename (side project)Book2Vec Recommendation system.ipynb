{
 "cells": [
  {
   "cell_type": "code",
   "execution_count": 1,
   "metadata": {},
   "outputs": [],
   "source": [
    "import numpy as np\n",
    "import pandas as pd"
   ]
  },
  {
   "cell_type": "code",
   "execution_count": 1367,
   "metadata": {},
   "outputs": [
    {
     "name": "stderr",
     "output_type": "stream",
     "text": [
      "C:\\Users\\snoza\\anaconda3\\lib\\site-packages\\IPython\\core\\interactiveshell.py:3071: DtypeWarning: Columns (3) have mixed types.Specify dtype option on import or set low_memory=False.\n",
      "  has_raised = await self.run_ast_nodes(code_ast.body, cell_name,\n"
     ]
    }
   ],
   "source": [
    "book_map = pd.read_csv('books.csv')"
   ]
  },
  {
   "cell_type": "code",
   "execution_count": 1368,
   "metadata": {},
   "outputs": [
    {
     "data": {
      "text/html": [
       "<div>\n",
       "<style scoped>\n",
       "    .dataframe tbody tr th:only-of-type {\n",
       "        vertical-align: middle;\n",
       "    }\n",
       "\n",
       "    .dataframe tbody tr th {\n",
       "        vertical-align: top;\n",
       "    }\n",
       "\n",
       "    .dataframe thead th {\n",
       "        text-align: right;\n",
       "    }\n",
       "</style>\n",
       "<table border=\"1\" class=\"dataframe\">\n",
       "  <thead>\n",
       "    <tr style=\"text-align: right;\">\n",
       "      <th></th>\n",
       "      <th>ISBN</th>\n",
       "      <th>Book-Title</th>\n",
       "      <th>Book-Author</th>\n",
       "      <th>Year-Of-Publication</th>\n",
       "      <th>Publisher</th>\n",
       "      <th>Image-URL-S</th>\n",
       "      <th>Image-URL-M</th>\n",
       "      <th>Image-URL-L</th>\n",
       "    </tr>\n",
       "  </thead>\n",
       "  <tbody>\n",
       "    <tr>\n",
       "      <th>0</th>\n",
       "      <td>0195153448</td>\n",
       "      <td>Classical Mythology</td>\n",
       "      <td>Mark P. O. Morford</td>\n",
       "      <td>2002</td>\n",
       "      <td>Oxford University Press</td>\n",
       "      <td>http://images.amazon.com/images/P/0195153448.01.THUMBZZZ.jpg</td>\n",
       "      <td>http://images.amazon.com/images/P/0195153448.01.MZZZZZZZ.jpg</td>\n",
       "      <td>http://images.amazon.com/images/P/0195153448.01.LZZZZZZZ.jpg</td>\n",
       "    </tr>\n",
       "    <tr>\n",
       "      <th>1</th>\n",
       "      <td>0002005018</td>\n",
       "      <td>Clara Callan</td>\n",
       "      <td>Richard Bruce Wright</td>\n",
       "      <td>2001</td>\n",
       "      <td>HarperFlamingo Canada</td>\n",
       "      <td>http://images.amazon.com/images/P/0002005018.01.THUMBZZZ.jpg</td>\n",
       "      <td>http://images.amazon.com/images/P/0002005018.01.MZZZZZZZ.jpg</td>\n",
       "      <td>http://images.amazon.com/images/P/0002005018.01.LZZZZZZZ.jpg</td>\n",
       "    </tr>\n",
       "    <tr>\n",
       "      <th>2</th>\n",
       "      <td>0060973129</td>\n",
       "      <td>Decision in Normandy</td>\n",
       "      <td>Carlo D'Este</td>\n",
       "      <td>1991</td>\n",
       "      <td>HarperPerennial</td>\n",
       "      <td>http://images.amazon.com/images/P/0060973129.01.THUMBZZZ.jpg</td>\n",
       "      <td>http://images.amazon.com/images/P/0060973129.01.MZZZZZZZ.jpg</td>\n",
       "      <td>http://images.amazon.com/images/P/0060973129.01.LZZZZZZZ.jpg</td>\n",
       "    </tr>\n",
       "    <tr>\n",
       "      <th>3</th>\n",
       "      <td>0374157065</td>\n",
       "      <td>Flu: The Story of the Great Influenza Pandemic of 1918 and the Search for the Virus That Caused It</td>\n",
       "      <td>Gina Bari Kolata</td>\n",
       "      <td>1999</td>\n",
       "      <td>Farrar Straus Giroux</td>\n",
       "      <td>http://images.amazon.com/images/P/0374157065.01.THUMBZZZ.jpg</td>\n",
       "      <td>http://images.amazon.com/images/P/0374157065.01.MZZZZZZZ.jpg</td>\n",
       "      <td>http://images.amazon.com/images/P/0374157065.01.LZZZZZZZ.jpg</td>\n",
       "    </tr>\n",
       "    <tr>\n",
       "      <th>4</th>\n",
       "      <td>0393045218</td>\n",
       "      <td>The Mummies of Urumchi</td>\n",
       "      <td>E. J. W. Barber</td>\n",
       "      <td>1999</td>\n",
       "      <td>W. W. Norton &amp;amp; Company</td>\n",
       "      <td>http://images.amazon.com/images/P/0393045218.01.THUMBZZZ.jpg</td>\n",
       "      <td>http://images.amazon.com/images/P/0393045218.01.MZZZZZZZ.jpg</td>\n",
       "      <td>http://images.amazon.com/images/P/0393045218.01.LZZZZZZZ.jpg</td>\n",
       "    </tr>\n",
       "  </tbody>\n",
       "</table>\n",
       "</div>"
      ],
      "text/plain": [
       "         ISBN  \\\n",
       "0  0195153448   \n",
       "1  0002005018   \n",
       "2  0060973129   \n",
       "3  0374157065   \n",
       "4  0393045218   \n",
       "\n",
       "                                                                                           Book-Title  \\\n",
       "0                                                                                 Classical Mythology   \n",
       "1                                                                                        Clara Callan   \n",
       "2                                                                                Decision in Normandy   \n",
       "3  Flu: The Story of the Great Influenza Pandemic of 1918 and the Search for the Virus That Caused It   \n",
       "4                                                                              The Mummies of Urumchi   \n",
       "\n",
       "            Book-Author Year-Of-Publication                   Publisher  \\\n",
       "0    Mark P. O. Morford                2002     Oxford University Press   \n",
       "1  Richard Bruce Wright                2001       HarperFlamingo Canada   \n",
       "2          Carlo D'Este                1991             HarperPerennial   \n",
       "3      Gina Bari Kolata                1999        Farrar Straus Giroux   \n",
       "4       E. J. W. Barber                1999  W. W. Norton &amp; Company   \n",
       "\n",
       "                                                    Image-URL-S  \\\n",
       "0  http://images.amazon.com/images/P/0195153448.01.THUMBZZZ.jpg   \n",
       "1  http://images.amazon.com/images/P/0002005018.01.THUMBZZZ.jpg   \n",
       "2  http://images.amazon.com/images/P/0060973129.01.THUMBZZZ.jpg   \n",
       "3  http://images.amazon.com/images/P/0374157065.01.THUMBZZZ.jpg   \n",
       "4  http://images.amazon.com/images/P/0393045218.01.THUMBZZZ.jpg   \n",
       "\n",
       "                                                    Image-URL-M  \\\n",
       "0  http://images.amazon.com/images/P/0195153448.01.MZZZZZZZ.jpg   \n",
       "1  http://images.amazon.com/images/P/0002005018.01.MZZZZZZZ.jpg   \n",
       "2  http://images.amazon.com/images/P/0060973129.01.MZZZZZZZ.jpg   \n",
       "3  http://images.amazon.com/images/P/0374157065.01.MZZZZZZZ.jpg   \n",
       "4  http://images.amazon.com/images/P/0393045218.01.MZZZZZZZ.jpg   \n",
       "\n",
       "                                                    Image-URL-L  \n",
       "0  http://images.amazon.com/images/P/0195153448.01.LZZZZZZZ.jpg  \n",
       "1  http://images.amazon.com/images/P/0002005018.01.LZZZZZZZ.jpg  \n",
       "2  http://images.amazon.com/images/P/0060973129.01.LZZZZZZZ.jpg  \n",
       "3  http://images.amazon.com/images/P/0374157065.01.LZZZZZZZ.jpg  \n",
       "4  http://images.amazon.com/images/P/0393045218.01.LZZZZZZZ.jpg  "
      ]
     },
     "execution_count": 1368,
     "metadata": {},
     "output_type": "execute_result"
    }
   ],
   "source": [
    "book_map.head()"
   ]
  },
  {
   "cell_type": "code",
   "execution_count": 352,
   "metadata": {},
   "outputs": [],
   "source": [
    "df = pd.read_csv('ratings.csv')"
   ]
  },
  {
   "cell_type": "code",
   "execution_count": 353,
   "metadata": {},
   "outputs": [
    {
     "data": {
      "text/html": [
       "<div>\n",
       "<style scoped>\n",
       "    .dataframe tbody tr th:only-of-type {\n",
       "        vertical-align: middle;\n",
       "    }\n",
       "\n",
       "    .dataframe tbody tr th {\n",
       "        vertical-align: top;\n",
       "    }\n",
       "\n",
       "    .dataframe thead th {\n",
       "        text-align: right;\n",
       "    }\n",
       "</style>\n",
       "<table border=\"1\" class=\"dataframe\">\n",
       "  <thead>\n",
       "    <tr style=\"text-align: right;\">\n",
       "      <th></th>\n",
       "      <th>User-ID</th>\n",
       "      <th>ISBN</th>\n",
       "      <th>Book-Rating</th>\n",
       "    </tr>\n",
       "  </thead>\n",
       "  <tbody>\n",
       "    <tr>\n",
       "      <th>0</th>\n",
       "      <td>276725</td>\n",
       "      <td>034545104X</td>\n",
       "      <td>0</td>\n",
       "    </tr>\n",
       "    <tr>\n",
       "      <th>1</th>\n",
       "      <td>276726</td>\n",
       "      <td>0155061224</td>\n",
       "      <td>5</td>\n",
       "    </tr>\n",
       "    <tr>\n",
       "      <th>2</th>\n",
       "      <td>276727</td>\n",
       "      <td>0446520802</td>\n",
       "      <td>0</td>\n",
       "    </tr>\n",
       "    <tr>\n",
       "      <th>3</th>\n",
       "      <td>276729</td>\n",
       "      <td>052165615X</td>\n",
       "      <td>3</td>\n",
       "    </tr>\n",
       "    <tr>\n",
       "      <th>4</th>\n",
       "      <td>276729</td>\n",
       "      <td>0521795028</td>\n",
       "      <td>6</td>\n",
       "    </tr>\n",
       "  </tbody>\n",
       "</table>\n",
       "</div>"
      ],
      "text/plain": [
       "   User-ID        ISBN  Book-Rating\n",
       "0   276725  034545104X            0\n",
       "1   276726  0155061224            5\n",
       "2   276727  0446520802            0\n",
       "3   276729  052165615X            3\n",
       "4   276729  0521795028            6"
      ]
     },
     "execution_count": 353,
     "metadata": {},
     "output_type": "execute_result"
    }
   ],
   "source": [
    "df.head()"
   ]
  },
  {
   "cell_type": "code",
   "execution_count": 355,
   "metadata": {},
   "outputs": [],
   "source": [
    "df['ISBN'] = df['ISBN'].str.replace(')','').replace('(','').replace(',','').replace('ISBN','')"
   ]
  },
  {
   "cell_type": "code",
   "execution_count": 356,
   "metadata": {},
   "outputs": [
    {
     "data": {
      "text/plain": [
       "105283"
      ]
     },
     "execution_count": 356,
     "metadata": {},
     "output_type": "execute_result"
    }
   ],
   "source": [
    "#總用戶數\n",
    "users = df[\"User-ID\"].unique().tolist()\n",
    "len(users)"
   ]
  },
  {
   "cell_type": "code",
   "execution_count": 489,
   "metadata": {},
   "outputs": [
    {
     "data": {
      "text/plain": [
       "75117"
      ]
     },
     "execution_count": 489,
     "metadata": {},
     "output_type": "execute_result"
    }
   ],
   "source": [
    "#總評分數\n",
    "ratings = df[df['Book-Rating']>=5][\"User-ID\"].unique().tolist()\n",
    "len(ratings)"
   ]
  },
  {
   "cell_type": "code",
   "execution_count": 490,
   "metadata": {},
   "outputs": [
    {
     "data": {
      "text/plain": [
       "179376"
      ]
     },
     "execution_count": 490,
     "metadata": {},
     "output_type": "execute_result"
    }
   ],
   "source": [
    "#總書本數\n",
    "books = df[df['Book-Rating']>=5][\"ISBN\"].unique().tolist()\n",
    "len(books)"
   ]
  },
  {
   "cell_type": "code",
   "execution_count": 1028,
   "metadata": {},
   "outputs": [],
   "source": [
    "df_ = df[(df['Book-Rating']>=5) | (df['Book-Rating']==0)]"
   ]
  },
  {
   "cell_type": "code",
   "execution_count": 1065,
   "metadata": {},
   "outputs": [],
   "source": [
    "#排除評論次數不到100次的書\n",
    "df_revise = df_.groupby('ISBN').filter(lambda x: len(x) > 100)"
   ]
  },
  {
   "cell_type": "code",
   "execution_count": 1066,
   "metadata": {},
   "outputs": [
    {
     "data": {
      "text/plain": [
       "702"
      ]
     },
     "execution_count": 1066,
     "metadata": {},
     "output_type": "execute_result"
    }
   ],
   "source": [
    "#更新後總書本數\n",
    "books_revise = df_revise[\"ISBN\"].unique().tolist()\n",
    "len(books_revise)"
   ]
  },
  {
   "cell_type": "code",
   "execution_count": 1067,
   "metadata": {},
   "outputs": [],
   "source": [
    "#排除評論次數不到2次的用戶(為取1筆資料做test_set)\n",
    "df_revise2 = df_revise.groupby('User-ID').filter(lambda x: len(x) >= 2)"
   ]
  },
  {
   "cell_type": "code",
   "execution_count": 1068,
   "metadata": {},
   "outputs": [
    {
     "data": {
      "text/plain": [
       "12867"
      ]
     },
     "execution_count": 1068,
     "metadata": {},
     "output_type": "execute_result"
    }
   ],
   "source": [
    "#評論2本以上不同書用戶數\n",
    "users_revise = df_revise2[\"User-ID\"].unique().tolist()\n",
    "len(users_revise)"
   ]
  },
  {
   "cell_type": "code",
   "execution_count": 1369,
   "metadata": {},
   "outputs": [],
   "source": [
    "#更新書名字典\n",
    "book_map = pd.merge(pd.DataFrame(df_revise2['ISBN'].unique(), columns = ['ISBN']), book_map)"
   ]
  },
  {
   "cell_type": "code",
   "execution_count": 1069,
   "metadata": {},
   "outputs": [],
   "source": [
    "#切分train/test set\n",
    "df_test_value = df_revise2.groupby(['User-ID']).tail(1)"
   ]
  },
  {
   "cell_type": "code",
   "execution_count": 1070,
   "metadata": {},
   "outputs": [],
   "source": [
    "df_test_index = df_test_value.index.to_list()"
   ]
  },
  {
   "cell_type": "code",
   "execution_count": 1071,
   "metadata": {},
   "outputs": [],
   "source": [
    "df_test = df_revise2[df_revise2.index.isin(df_test_index)]"
   ]
  },
  {
   "cell_type": "code",
   "execution_count": 1072,
   "metadata": {},
   "outputs": [],
   "source": [
    "df_train = df_revise2[~df_revise2.index.isin(df_test_index)]"
   ]
  },
  {
   "cell_type": "code",
   "execution_count": 1073,
   "metadata": {},
   "outputs": [
    {
     "data": {
      "text/html": [
       "<div>\n",
       "<style scoped>\n",
       "    .dataframe tbody tr th:only-of-type {\n",
       "        vertical-align: middle;\n",
       "    }\n",
       "\n",
       "    .dataframe tbody tr th {\n",
       "        vertical-align: top;\n",
       "    }\n",
       "\n",
       "    .dataframe thead th {\n",
       "        text-align: right;\n",
       "    }\n",
       "</style>\n",
       "<table border=\"1\" class=\"dataframe\">\n",
       "  <thead>\n",
       "    <tr style=\"text-align: right;\">\n",
       "      <th></th>\n",
       "      <th>User-ID</th>\n",
       "      <th>ISBN</th>\n",
       "      <th>Book-Rating</th>\n",
       "    </tr>\n",
       "  </thead>\n",
       "  <tbody>\n",
       "    <tr>\n",
       "      <th>10</th>\n",
       "      <td>276746</td>\n",
       "      <td>0425115801</td>\n",
       "      <td>0</td>\n",
       "    </tr>\n",
       "    <tr>\n",
       "      <th>11</th>\n",
       "      <td>276746</td>\n",
       "      <td>0449006522</td>\n",
       "      <td>0</td>\n",
       "    </tr>\n",
       "    <tr>\n",
       "      <th>12</th>\n",
       "      <td>276746</td>\n",
       "      <td>0553561618</td>\n",
       "      <td>0</td>\n",
       "    </tr>\n",
       "    <tr>\n",
       "      <th>133</th>\n",
       "      <td>276822</td>\n",
       "      <td>0060096195</td>\n",
       "      <td>10</td>\n",
       "    </tr>\n",
       "    <tr>\n",
       "      <th>164</th>\n",
       "      <td>276832</td>\n",
       "      <td>0316781266</td>\n",
       "      <td>0</td>\n",
       "    </tr>\n",
       "    <tr>\n",
       "      <th>...</th>\n",
       "      <td>...</td>\n",
       "      <td>...</td>\n",
       "      <td>...</td>\n",
       "    </tr>\n",
       "    <tr>\n",
       "      <th>1149712</th>\n",
       "      <td>276688</td>\n",
       "      <td>0553569155</td>\n",
       "      <td>0</td>\n",
       "    </tr>\n",
       "    <tr>\n",
       "      <th>1149726</th>\n",
       "      <td>276688</td>\n",
       "      <td>0679751521</td>\n",
       "      <td>0</td>\n",
       "    </tr>\n",
       "    <tr>\n",
       "      <th>1149761</th>\n",
       "      <td>276704</td>\n",
       "      <td>0345386108</td>\n",
       "      <td>6</td>\n",
       "    </tr>\n",
       "    <tr>\n",
       "      <th>1149768</th>\n",
       "      <td>276704</td>\n",
       "      <td>0446605409</td>\n",
       "      <td>0</td>\n",
       "    </tr>\n",
       "    <tr>\n",
       "      <th>1149771</th>\n",
       "      <td>276704</td>\n",
       "      <td>0743211383</td>\n",
       "      <td>7</td>\n",
       "    </tr>\n",
       "  </tbody>\n",
       "</table>\n",
       "<p>101486 rows × 3 columns</p>\n",
       "</div>"
      ],
      "text/plain": [
       "         User-ID        ISBN  Book-Rating\n",
       "10        276746  0425115801            0\n",
       "11        276746  0449006522            0\n",
       "12        276746  0553561618            0\n",
       "133       276822  0060096195           10\n",
       "164       276832  0316781266            0\n",
       "...          ...         ...          ...\n",
       "1149712   276688  0553569155            0\n",
       "1149726   276688  0679751521            0\n",
       "1149761   276704  0345386108            6\n",
       "1149768   276704  0446605409            0\n",
       "1149771   276704  0743211383            7\n",
       "\n",
       "[101486 rows x 3 columns]"
      ]
     },
     "execution_count": 1073,
     "metadata": {},
     "output_type": "execute_result"
    }
   ],
   "source": [
    "df_train"
   ]
  },
  {
   "cell_type": "code",
   "execution_count": 1074,
   "metadata": {},
   "outputs": [
    {
     "data": {
      "text/html": [
       "<div>\n",
       "<style scoped>\n",
       "    .dataframe tbody tr th:only-of-type {\n",
       "        vertical-align: middle;\n",
       "    }\n",
       "\n",
       "    .dataframe tbody tr th {\n",
       "        vertical-align: top;\n",
       "    }\n",
       "\n",
       "    .dataframe thead th {\n",
       "        text-align: right;\n",
       "    }\n",
       "</style>\n",
       "<table border=\"1\" class=\"dataframe\">\n",
       "  <thead>\n",
       "    <tr style=\"text-align: right;\">\n",
       "      <th></th>\n",
       "      <th>User-ID</th>\n",
       "      <th>ISBN</th>\n",
       "      <th>Book-Rating</th>\n",
       "    </tr>\n",
       "  </thead>\n",
       "  <tbody>\n",
       "    <tr>\n",
       "      <th>13</th>\n",
       "      <td>276746</td>\n",
       "      <td>055356451X</td>\n",
       "      <td>0</td>\n",
       "    </tr>\n",
       "    <tr>\n",
       "      <th>145</th>\n",
       "      <td>276822</td>\n",
       "      <td>0786817070</td>\n",
       "      <td>10</td>\n",
       "    </tr>\n",
       "    <tr>\n",
       "      <th>165</th>\n",
       "      <td>276832</td>\n",
       "      <td>0345446860</td>\n",
       "      <td>5</td>\n",
       "    </tr>\n",
       "    <tr>\n",
       "      <th>457</th>\n",
       "      <td>276925</td>\n",
       "      <td>0971880107</td>\n",
       "      <td>0</td>\n",
       "    </tr>\n",
       "    <tr>\n",
       "      <th>625</th>\n",
       "      <td>276939</td>\n",
       "      <td>0971880107</td>\n",
       "      <td>0</td>\n",
       "    </tr>\n",
       "    <tr>\n",
       "      <th>...</th>\n",
       "      <td>...</td>\n",
       "      <td>...</td>\n",
       "      <td>...</td>\n",
       "    </tr>\n",
       "    <tr>\n",
       "      <th>1149432</th>\n",
       "      <td>276670</td>\n",
       "      <td>1573227331</td>\n",
       "      <td>7</td>\n",
       "    </tr>\n",
       "    <tr>\n",
       "      <th>1149592</th>\n",
       "      <td>276680</td>\n",
       "      <td>0743203631</td>\n",
       "      <td>7</td>\n",
       "    </tr>\n",
       "    <tr>\n",
       "      <th>1149646</th>\n",
       "      <td>276681</td>\n",
       "      <td>0399144463</td>\n",
       "      <td>8</td>\n",
       "    </tr>\n",
       "    <tr>\n",
       "      <th>1149731</th>\n",
       "      <td>276688</td>\n",
       "      <td>068484267X</td>\n",
       "      <td>0</td>\n",
       "    </tr>\n",
       "    <tr>\n",
       "      <th>1149772</th>\n",
       "      <td>276704</td>\n",
       "      <td>080410526X</td>\n",
       "      <td>0</td>\n",
       "    </tr>\n",
       "  </tbody>\n",
       "</table>\n",
       "<p>12867 rows × 3 columns</p>\n",
       "</div>"
      ],
      "text/plain": [
       "         User-ID        ISBN  Book-Rating\n",
       "13        276746  055356451X            0\n",
       "145       276822  0786817070           10\n",
       "165       276832  0345446860            5\n",
       "457       276925  0971880107            0\n",
       "625       276939  0971880107            0\n",
       "...          ...         ...          ...\n",
       "1149432   276670  1573227331            7\n",
       "1149592   276680  0743203631            7\n",
       "1149646   276681  0399144463            8\n",
       "1149731   276688  068484267X            0\n",
       "1149772   276704  080410526X            0\n",
       "\n",
       "[12867 rows x 3 columns]"
      ]
     },
     "execution_count": 1074,
     "metadata": {},
     "output_type": "execute_result"
    }
   ],
   "source": [
    "df_test"
   ]
  },
  {
   "cell_type": "code",
   "execution_count": 1075,
   "metadata": {},
   "outputs": [],
   "source": [
    "def to_book_df(df):\n",
    "    df['User-ID'] = df['User-ID'].astype('str')\n",
    "    df['ISBN'] = df['ISBN'].astype('str')\n",
    "    cust_book = df.groupby(['User-ID'])\n",
    "    cust_book_dict = {}\n",
    "    for gp in cust_book.groups:\n",
    "        cust_book_list = {gp:cust_book.get_group(gp)['ISBN'].tolist()}\n",
    "        cust_book_dict.update(cust_book_list)\n",
    "    \n",
    "    df_cust_book = pd.DataFrame(list(cust_book_dict.items()), columns = ['gp', 'book_list'])\n",
    "        \n",
    "    return df_cust_book"
   ]
  },
  {
   "cell_type": "code",
   "execution_count": 1076,
   "metadata": {},
   "outputs": [
    {
     "name": "stderr",
     "output_type": "stream",
     "text": [
      "<ipython-input-1075-2721b2ff06f5>:2: SettingWithCopyWarning: \n",
      "A value is trying to be set on a copy of a slice from a DataFrame.\n",
      "Try using .loc[row_indexer,col_indexer] = value instead\n",
      "\n",
      "See the caveats in the documentation: https://pandas.pydata.org/pandas-docs/stable/user_guide/indexing.html#returning-a-view-versus-a-copy\n",
      "  df['User-ID'] = df['User-ID'].astype('str')\n",
      "<ipython-input-1075-2721b2ff06f5>:3: SettingWithCopyWarning: \n",
      "A value is trying to be set on a copy of a slice from a DataFrame.\n",
      "Try using .loc[row_indexer,col_indexer] = value instead\n",
      "\n",
      "See the caveats in the documentation: https://pandas.pydata.org/pandas-docs/stable/user_guide/indexing.html#returning-a-view-versus-a-copy\n",
      "  df['ISBN'] = df['ISBN'].astype('str')\n"
     ]
    }
   ],
   "source": [
    "df_gp_train = to_book_df(df_train)"
   ]
  },
  {
   "cell_type": "code",
   "execution_count": 1077,
   "metadata": {},
   "outputs": [
    {
     "data": {
      "text/html": [
       "<div>\n",
       "<style scoped>\n",
       "    .dataframe tbody tr th:only-of-type {\n",
       "        vertical-align: middle;\n",
       "    }\n",
       "\n",
       "    .dataframe tbody tr th {\n",
       "        vertical-align: top;\n",
       "    }\n",
       "\n",
       "    .dataframe thead th {\n",
       "        text-align: right;\n",
       "    }\n",
       "</style>\n",
       "<table border=\"1\" class=\"dataframe\">\n",
       "  <thead>\n",
       "    <tr style=\"text-align: right;\">\n",
       "      <th></th>\n",
       "      <th>gp</th>\n",
       "      <th>book_list</th>\n",
       "    </tr>\n",
       "  </thead>\n",
       "  <tbody>\n",
       "    <tr>\n",
       "      <th>0</th>\n",
       "      <td>100004</td>\n",
       "      <td>[0061015725, 0345339703, 0345339711, 034533973...</td>\n",
       "    </tr>\n",
       "    <tr>\n",
       "      <th>1</th>\n",
       "      <td>100009</td>\n",
       "      <td>[0060392452, 0060502258, 0312982518, 034539105...</td>\n",
       "    </tr>\n",
       "    <tr>\n",
       "      <th>2</th>\n",
       "      <td>10001</td>\n",
       "      <td>[0316601950, 0425092917, 0446359866, 0451160525]</td>\n",
       "    </tr>\n",
       "    <tr>\n",
       "      <th>3</th>\n",
       "      <td>100035</td>\n",
       "      <td>[0440211727, 0553277472, 0671673688]</td>\n",
       "    </tr>\n",
       "    <tr>\n",
       "      <th>4</th>\n",
       "      <td>100053</td>\n",
       "      <td>[0312195516, 0312422156, 0316769487, 0375703055]</td>\n",
       "    </tr>\n",
       "    <tr>\n",
       "      <th>...</th>\n",
       "      <td>...</td>\n",
       "      <td>...</td>\n",
       "    </tr>\n",
       "    <tr>\n",
       "      <th>12862</th>\n",
       "      <td>99955</td>\n",
       "      <td>[0316666343, 0345313860, 0375760911, 038572010...</td>\n",
       "    </tr>\n",
       "    <tr>\n",
       "      <th>12863</th>\n",
       "      <td>99963</td>\n",
       "      <td>[0345370775, 0449223604]</td>\n",
       "    </tr>\n",
       "    <tr>\n",
       "      <th>12864</th>\n",
       "      <td>99980</td>\n",
       "      <td>[0140119906]</td>\n",
       "    </tr>\n",
       "    <tr>\n",
       "      <th>12865</th>\n",
       "      <td>99996</td>\n",
       "      <td>[0440235162, 044023722X, 0440241073]</td>\n",
       "    </tr>\n",
       "    <tr>\n",
       "      <th>12866</th>\n",
       "      <td>99997</td>\n",
       "      <td>[0316666343, 0345443284, 0375506039]</td>\n",
       "    </tr>\n",
       "  </tbody>\n",
       "</table>\n",
       "<p>12867 rows × 2 columns</p>\n",
       "</div>"
      ],
      "text/plain": [
       "           gp                                          book_list\n",
       "0      100004  [0061015725, 0345339703, 0345339711, 034533973...\n",
       "1      100009  [0060392452, 0060502258, 0312982518, 034539105...\n",
       "2       10001   [0316601950, 0425092917, 0446359866, 0451160525]\n",
       "3      100035               [0440211727, 0553277472, 0671673688]\n",
       "4      100053   [0312195516, 0312422156, 0316769487, 0375703055]\n",
       "...       ...                                                ...\n",
       "12862   99955  [0316666343, 0345313860, 0375760911, 038572010...\n",
       "12863   99963                           [0345370775, 0449223604]\n",
       "12864   99980                                       [0140119906]\n",
       "12865   99996               [0440235162, 044023722X, 0440241073]\n",
       "12866   99997               [0316666343, 0345443284, 0375506039]\n",
       "\n",
       "[12867 rows x 2 columns]"
      ]
     },
     "execution_count": 1077,
     "metadata": {},
     "output_type": "execute_result"
    }
   ],
   "source": [
    "df_gp_train"
   ]
  },
  {
   "cell_type": "code",
   "execution_count": 1078,
   "metadata": {},
   "outputs": [
    {
     "name": "stderr",
     "output_type": "stream",
     "text": [
      "<ipython-input-1075-2721b2ff06f5>:2: SettingWithCopyWarning: \n",
      "A value is trying to be set on a copy of a slice from a DataFrame.\n",
      "Try using .loc[row_indexer,col_indexer] = value instead\n",
      "\n",
      "See the caveats in the documentation: https://pandas.pydata.org/pandas-docs/stable/user_guide/indexing.html#returning-a-view-versus-a-copy\n",
      "  df['User-ID'] = df['User-ID'].astype('str')\n",
      "<ipython-input-1075-2721b2ff06f5>:3: SettingWithCopyWarning: \n",
      "A value is trying to be set on a copy of a slice from a DataFrame.\n",
      "Try using .loc[row_indexer,col_indexer] = value instead\n",
      "\n",
      "See the caveats in the documentation: https://pandas.pydata.org/pandas-docs/stable/user_guide/indexing.html#returning-a-view-versus-a-copy\n",
      "  df['ISBN'] = df['ISBN'].astype('str')\n"
     ]
    }
   ],
   "source": [
    "df_gp_test = to_book_df(df_test)"
   ]
  },
  {
   "cell_type": "code",
   "execution_count": 1079,
   "metadata": {},
   "outputs": [],
   "source": [
    "import gensim\n",
    "from gensim.models import Word2Vec"
   ]
  },
  {
   "cell_type": "code",
   "execution_count": 1080,
   "metadata": {},
   "outputs": [],
   "source": [
    "import multiprocessing\n",
    "cores = multiprocessing.cpu_count()"
   ]
  },
  {
   "cell_type": "code",
   "execution_count": 1081,
   "metadata": {},
   "outputs": [],
   "source": [
    "book_lists = list(df_gp_train['book_list'])"
   ]
  },
  {
   "cell_type": "code",
   "execution_count": 1082,
   "metadata": {},
   "outputs": [],
   "source": [
    "import random\n",
    "\n",
    "for book_list in book_lists:\n",
    "    random.shuffle(book_list)"
   ]
  },
  {
   "cell_type": "code",
   "execution_count": 1211,
   "metadata": {},
   "outputs": [
    {
     "name": "stdout",
     "output_type": "stream",
     "text": [
      "Time passed:0:02:09.428180\n"
     ]
    }
   ],
   "source": [
    "import datetime\n",
    "start = datetime.datetime.now()\n",
    "\n",
    "model = Word2Vec(sentences = book_lists,\n",
    "                vector_size = 50, \n",
    "                min_count = 1,                \n",
    "                workers = cores-1,\n",
    "                sg = 1,\n",
    "                hs = 0,\n",
    "                negative = 30,\n",
    "                window = 999,\n",
    "                epochs = 20)\n",
    "\n",
    "print(\"Time passed:\"+str(datetime.datetime.now()-start))\n",
    "model.save('item2vec_v1')"
   ]
  },
  {
   "cell_type": "code",
   "execution_count": 1212,
   "metadata": {},
   "outputs": [],
   "source": [
    "word_vectors = model.wv"
   ]
  },
  {
   "cell_type": "code",
   "execution_count": 1213,
   "metadata": {},
   "outputs": [],
   "source": [
    "def recommender(positive_list = None, topn = 10):\n",
    "    recommend_prod = []\n",
    "    for book_id, prob in model.wv.most_similar(positive = positive_list, topn = topn):\n",
    "        recommend_prod.append(book_id)\n",
    "    return recommend_prod"
   ]
  },
  {
   "cell_type": "code",
   "execution_count": 1214,
   "metadata": {},
   "outputs": [
    {
     "data": {
      "text/plain": [
       "['0345339681', '0345339738', '0345339711', '0441790348', '0451184963']"
      ]
     },
     "execution_count": 1214,
     "metadata": {},
     "output_type": "execute_result"
    }
   ],
   "source": [
    "recommender(positive_list = ['0345339703'], topn = 5)"
   ]
  },
  {
   "cell_type": "code",
   "execution_count": 1245,
   "metadata": {},
   "outputs": [],
   "source": [
    "def cust_recommend_smy(df):\n",
    "    recommend_smy = []\n",
    "    for index, row in df.iterrows():\n",
    "        cust_id = row['gp']\n",
    "        book_list = row['book_list']\n",
    "        book_list = list(book_list)\n",
    "        prod_recommend_list = recommender(positive_list = book_list, topn = 30)\n",
    "        recommend_smy.append([cust_id, prod_recommend_list])\n",
    "                             \n",
    "    df_recommend = pd.DataFrame(recommend_smy, columns = ['cust_id', 'recommend_list'])\n",
    "    \n",
    "    return df_recommend"
   ]
  },
  {
   "cell_type": "code",
   "execution_count": 1246,
   "metadata": {},
   "outputs": [
    {
     "name": "stdout",
     "output_type": "stream",
     "text": [
      "Time passed:0:00:05.955097\n"
     ]
    }
   ],
   "source": [
    "start = datetime.datetime.now()\n",
    "df_recommend = cust_recommend_smy(df_gp_train)\n",
    "\n",
    "print(\"Time passed:\"+str(datetime.datetime.now()-start))  "
   ]
  },
  {
   "cell_type": "code",
   "execution_count": 1247,
   "metadata": {},
   "outputs": [],
   "source": [
    "df_recommend.to_csv('df_recommend.csv')"
   ]
  },
  {
   "cell_type": "code",
   "execution_count": 1248,
   "metadata": {},
   "outputs": [],
   "source": [
    "predict_smy = pd.merge(df_recommend, df_gp_test, left_on='cust_id', right_on='gp')"
   ]
  },
  {
   "cell_type": "code",
   "execution_count": 1249,
   "metadata": {},
   "outputs": [
    {
     "data": {
      "text/html": [
       "<div>\n",
       "<style scoped>\n",
       "    .dataframe tbody tr th:only-of-type {\n",
       "        vertical-align: middle;\n",
       "    }\n",
       "\n",
       "    .dataframe tbody tr th {\n",
       "        vertical-align: top;\n",
       "    }\n",
       "\n",
       "    .dataframe thead th {\n",
       "        text-align: right;\n",
       "    }\n",
       "</style>\n",
       "<table border=\"1\" class=\"dataframe\">\n",
       "  <thead>\n",
       "    <tr style=\"text-align: right;\">\n",
       "      <th></th>\n",
       "      <th>cust_id</th>\n",
       "      <th>recommend_list</th>\n",
       "      <th>gp</th>\n",
       "      <th>book_list</th>\n",
       "    </tr>\n",
       "  </thead>\n",
       "  <tbody>\n",
       "    <tr>\n",
       "      <th>0</th>\n",
       "      <td>100004</td>\n",
       "      <td>[0345339681, 0345370775, 0345342968, 034540288...</td>\n",
       "      <td>100004</td>\n",
       "      <td>[059035342X]</td>\n",
       "    </tr>\n",
       "    <tr>\n",
       "      <th>1</th>\n",
       "      <td>100009</td>\n",
       "      <td>[044023722X, 0440206154, 0440221471, 044022060...</td>\n",
       "      <td>100009</td>\n",
       "      <td>[0553582747]</td>\n",
       "    </tr>\n",
       "    <tr>\n",
       "      <th>2</th>\n",
       "      <td>10001</td>\n",
       "      <td>[0553268880, 0440211727, 0440220602, 044022467...</td>\n",
       "      <td>10001</td>\n",
       "      <td>[059035342X]</td>\n",
       "    </tr>\n",
       "    <tr>\n",
       "      <th>3</th>\n",
       "      <td>100035</td>\n",
       "      <td>[044021145X, 0345370775, 0380018179, 044022467...</td>\n",
       "      <td>100035</td>\n",
       "      <td>[0671888587]</td>\n",
       "    </tr>\n",
       "    <tr>\n",
       "      <th>4</th>\n",
       "      <td>100053</td>\n",
       "      <td>[0316666343, 0679781587, 0971880107, 006092833...</td>\n",
       "      <td>100053</td>\n",
       "      <td>[0679746048]</td>\n",
       "    </tr>\n",
       "    <tr>\n",
       "      <th>...</th>\n",
       "      <td>...</td>\n",
       "      <td>...</td>\n",
       "      <td>...</td>\n",
       "      <td>...</td>\n",
       "    </tr>\n",
       "    <tr>\n",
       "      <th>12862</th>\n",
       "      <td>99955</td>\n",
       "      <td>[0060928336, 0553268880, 0440226430, 031660195...</td>\n",
       "      <td>99955</td>\n",
       "      <td>[0971880107]</td>\n",
       "    </tr>\n",
       "    <tr>\n",
       "      <th>12863</th>\n",
       "      <td>99963</td>\n",
       "      <td>[0553280341, 0449221504, 0553279912, 044922151...</td>\n",
       "      <td>99963</td>\n",
       "      <td>[0786881852]</td>\n",
       "    </tr>\n",
       "    <tr>\n",
       "      <th>12864</th>\n",
       "      <td>99980</td>\n",
       "      <td>[0385484518, 0312195516, 0060976845, 006093053...</td>\n",
       "      <td>99980</td>\n",
       "      <td>[0679746048]</td>\n",
       "    </tr>\n",
       "    <tr>\n",
       "      <th>12865</th>\n",
       "      <td>99996</td>\n",
       "      <td>[0440236673, 0440225701, 0440221471, 044023474...</td>\n",
       "      <td>99996</td>\n",
       "      <td>[0452282152]</td>\n",
       "    </tr>\n",
       "    <tr>\n",
       "      <th>12866</th>\n",
       "      <td>99997</td>\n",
       "      <td>[0316601950, 0375727345, 067976402X, 037570677...</td>\n",
       "      <td>99997</td>\n",
       "      <td>[0451202341]</td>\n",
       "    </tr>\n",
       "  </tbody>\n",
       "</table>\n",
       "<p>12867 rows × 4 columns</p>\n",
       "</div>"
      ],
      "text/plain": [
       "      cust_id                                     recommend_list      gp  \\\n",
       "0      100004  [0345339681, 0345370775, 0345342968, 034540288...  100004   \n",
       "1      100009  [044023722X, 0440206154, 0440221471, 044022060...  100009   \n",
       "2       10001  [0553268880, 0440211727, 0440220602, 044022467...   10001   \n",
       "3      100035  [044021145X, 0345370775, 0380018179, 044022467...  100035   \n",
       "4      100053  [0316666343, 0679781587, 0971880107, 006092833...  100053   \n",
       "...       ...                                                ...     ...   \n",
       "12862   99955  [0060928336, 0553268880, 0440226430, 031660195...   99955   \n",
       "12863   99963  [0553280341, 0449221504, 0553279912, 044922151...   99963   \n",
       "12864   99980  [0385484518, 0312195516, 0060976845, 006093053...   99980   \n",
       "12865   99996  [0440236673, 0440225701, 0440221471, 044023474...   99996   \n",
       "12866   99997  [0316601950, 0375727345, 067976402X, 037570677...   99997   \n",
       "\n",
       "          book_list  \n",
       "0      [059035342X]  \n",
       "1      [0553582747]  \n",
       "2      [059035342X]  \n",
       "3      [0671888587]  \n",
       "4      [0679746048]  \n",
       "...             ...  \n",
       "12862  [0971880107]  \n",
       "12863  [0786881852]  \n",
       "12864  [0679746048]  \n",
       "12865  [0452282152]  \n",
       "12866  [0451202341]  \n",
       "\n",
       "[12867 rows x 4 columns]"
      ]
     },
     "execution_count": 1249,
     "metadata": {},
     "output_type": "execute_result"
    }
   ],
   "source": [
    "predict_smy"
   ]
  },
  {
   "cell_type": "code",
   "execution_count": 1250,
   "metadata": {},
   "outputs": [],
   "source": [
    "def accuracy_rate(df):\n",
    "    #df['recommend_list'] = df['recommend_list'].astype('str')\n",
    "    #df['book_list'] = df['book_list'].astype('str')\n",
    "    count = 0\n",
    "    correct_count = 0\n",
    "    for index, row in df.iterrows():\n",
    "        ground_truth = str(row['book_list']).replace('[','').replace(']','').replace(\"'\",'')\n",
    "        recommend_list = row['recommend_list']\n",
    "        if ground_truth in recommend_list:\n",
    "            correct_count += 1\n",
    "            count += 1\n",
    "        else:count +=1\n",
    "    \n",
    "    accuracy = correct_count / count\n",
    "    \n",
    "    return print(\"correct_count is \" + str(correct_count) + \" count is \" + str(count) + \" accuracy_rate is \" + str(accuracy))"
   ]
  },
  {
   "cell_type": "code",
   "execution_count": 1251,
   "metadata": {},
   "outputs": [
    {
     "name": "stdout",
     "output_type": "stream",
     "text": [
      "correct_count is 2817 count is 12867 accuracy_rate is 0.21893215201678712\n"
     ]
    }
   ],
   "source": [
    "accuracy_rate(predict_smy)"
   ]
  },
  {
   "cell_type": "code",
   "execution_count": 1389,
   "metadata": {},
   "outputs": [],
   "source": [
    "def recommender_system(book_name):\n",
    "\n",
    "    book_id = book_map[book_map['Book-Title'] == book_name]['ISBN']\n",
    "    book_id = list(book_id)\n",
    "\n",
    "    recommender_list = recommender(positive_list = book_id, topn = 30)\n",
    "    recommender_book = []\n",
    "    for book_id in recommender_list:\n",
    "        book_name = book_map[book_map['ISBN'] == book_id]['Book-Title'].to_string(index = False)\n",
    "\n",
    "        recommender_book.append(book_name)\n",
    "    return recommender_book"
   ]
  },
  {
   "cell_type": "code",
   "execution_count": 1390,
   "metadata": {},
   "outputs": [
    {
     "data": {
      "text/plain": [
       "[' The Hobbit : The Enchanting Prelude to The Lord of the Rings',\n",
       " ' The Return of the King (The Lord of the Rings, Part 3)',\n",
       " ' The Two Towers (The Lord of the Rings, Part 2)',\n",
       " ' Stranger in a Strange Land (Remembering Tomorrow)',\n",
       " ' Insomnia',\n",
       " ' Needful Things',\n",
       " ' The Giver (21st Century Reference)',\n",
       " \" Tom Clancy's Op-Center: Mirror Image (Tom Clancy's Op Center (Paperback))\",\n",
       " ' Silence of the Lambs',\n",
       " ' The Tommyknockers',\n",
       " ' The Client',\n",
       " ' Jurassic Park',\n",
       " \" Tom Clancy's Op-Center (Tom Clancy's Op Center (Paperback))\",\n",
       " ' Fahrenheit 451',\n",
       " ' A Wrinkle in Time',\n",
       " ' The Catcher in the Rye',\n",
       " ' Lord of the Flies',\n",
       " ' Anne of Green Gables (Anne of Green Gables Novels (Paperback))',\n",
       " ' The Perfect Storm : A True Story of Men Against the Sea',\n",
       " ' The Green Mile',\n",
       " ' Watership Down',\n",
       " ' The Bourne Identity',\n",
       " ' The Loop',\n",
       " ' From the Corner of His Eye',\n",
       " ' The Golden Compass (His Dark Materials, Book 1)',\n",
       " \" Don't Stand Too Close to a Naked Man\",\n",
       " ' Politically Correct Bedtime Stories: Modern Tales for Our Life and Times',\n",
       " ' The Mists of Avalon',\n",
       " ' A Time to Kill',\n",
       " ' Red Dragon']"
      ]
     },
     "execution_count": 1390,
     "metadata": {},
     "output_type": "execute_result"
    }
   ],
   "source": [
    "book_name = \"The Fellowship of the Ring (The Lord of the Rings, Part 1)\"\n",
    "recommender_system(book_name)"
   ]
  },
  {
   "cell_type": "code",
   "execution_count": 1313,
   "metadata": {},
   "outputs": [],
   "source": [
    "pd.set_option('max_colwidth', 100)"
   ]
  },
  {
   "cell_type": "code",
   "execution_count": null,
   "metadata": {},
   "outputs": [],
   "source": []
  }
 ],
 "metadata": {
  "kernelspec": {
   "display_name": "Python 3",
   "language": "python",
   "name": "python3"
  },
  "language_info": {
   "codemirror_mode": {
    "name": "ipython",
    "version": 3
   },
   "file_extension": ".py",
   "mimetype": "text/x-python",
   "name": "python",
   "nbconvert_exporter": "python",
   "pygments_lexer": "ipython3",
   "version": "3.8.3"
  }
 },
 "nbformat": 4,
 "nbformat_minor": 4
}
